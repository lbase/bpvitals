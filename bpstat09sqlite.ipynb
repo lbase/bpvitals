{
 "cells": [
  {
   "cell_type": "markdown",
   "metadata": {},
   "source": [
    "# Working bits from bpstats09pg\n"
   ]
  },
  {
   "cell_type": "markdown",
   "metadata": {
    "tags": []
   },
   "source": [
    "## moving to sqlite after trouble with queries and sequences in postgresql\n",
    "\n",
    "https://docs.sqlalchemy.org/en/14/dialects/sqlite.html#module-sqlalchemy.dialects.sqlite.pysqlite\n",
    "\n",
    "https://docs.python.org/3/library/datetime.html#strftime-and-strptime-behavior\n",
    "\n",
    "use %%black to format cell\n",
    "\n",
    "running from fedora and making change to see if push works with flatboy\n",
    "can't seem to get gitlab to show bubba as an author\n"
   ]
  },
  {
   "cell_type": "code",
   "execution_count": 3,
   "metadata": {
    "tags": []
   },
   "outputs": [],
   "source": [
    "import dateutil\n",
    "import pandas as pd\n",
    "import numpy as np\n",
    "from sqlalchemy import create_engine\n",
    "from sqlalchemy import select\n",
    "from sqlalchemy.dialects.sqlite import DATETIME as DT\n",
    "import matplotlib.pyplot as plt\n",
    "# import seaborn as sb\n",
    "from matplotlib import cbook, dates\n",
    "from icecream import ic\n",
    "#from matplotlib.ticker import Formatter\n",
    "import mplcursors\n",
    "#%matplotlib widget\n",
    "# this gives seperate window qt widget for figures\n",
    "# %matplotlib qt5 \n",
    "# %load_ext blackcellmagic\n",
    "eng = create_engine(\"sqlite:////data/sqlite/vitals.db\")\n",
    "myconn = eng.connect()"
   ]
  },
  {
   "cell_type": "markdown",
   "metadata": {
    "tags": []
   },
   "source": [
    "## Blood sugar line plot"
   ]
  },
  {
   "cell_type": "code",
   "execution_count": 4,
   "metadata": {},
   "outputs": [
    {
     "data": {
      "text/plain": [
       "<sqlalchemy.engine.base.Connection at 0x7f4789c1bdf0>"
      ]
     },
     "execution_count": 4,
     "metadata": {},
     "output_type": "execute_result"
    }
   ],
   "source": [
    "myconn"
   ]
  },
  {
   "cell_type": "code",
   "execution_count": null,
   "metadata": {},
   "outputs": [],
   "source": []
  },
  {
   "cell_type": "code",
   "execution_count": 5,
   "metadata": {
    "tags": []
   },
   "outputs": [
    {
     "name": "stderr",
     "output_type": "stream",
     "text": [
      "/tmp/ipykernel_28502/2424762569.py:17: MatplotlibDeprecationWarning: The 'b' parameter of grid() has been renamed 'visible' since Matplotlib 3.5; support for the old name will be dropped two minor releases later.\n",
      "  plt.grid(b=True, which='both', axis='both', )\n"
     ]
    },
    {
     "data": {
      "text/plain": [
       "<mplcursors._mplcursors.Cursor at 0x7f4753d83160>"
      ]
     },
     "execution_count": 5,
     "metadata": {},
     "output_type": "execute_result"
    },
    {
     "data": {
      "image/png": "[encoded data removed]",
      "text/plain": [
       "<Figure size 720x720 with 1 Axes>"
      ]
     },
     "metadata": {
      "needs_background": "light"
     },
     "output_type": "display_data"
    }
   ],
   "source": [
    "#  this one working and showing the variable mystats n\n",
    "# never got cursor to work so added mplcursors lib\n",
    "# get data\n",
    "sugeightdays = \"SELECT bsdate,bsugar FROM qtsugar WHERE bsdate > (SELECT date('now','-8 day'))\"\n",
    "sugar8days = pd.read_sql_query(sugeightdays, myconn, parse_dates = \"bsdate\")\n",
    "# start setting up figure\n",
    "mylegend = \"7 days stats \"\n",
    "mystats = sugar8days.describe(include='int')\n",
    "sugar8days=sugar8days.sort_values(\"bsdate\")\n",
    "fig3, ax3 = plt.subplots()\n",
    "plt.ylim(60,150)\n",
    "ax3.set_xlabel('Date')\n",
    "plt.title('blood sugar last 8 days')\n",
    "ax3.annotate([mystats], xy=(200, 380), xycoords='figure points')\n",
    "plt.setp(ax3.get_xticklabels(), rotation = 90, fontsize=6)\n",
    "#ax3.set_xticklabels(sugar8days.bsdate, rotation=90, fontsize=6)\n",
    "plt.grid(b=True, which='both', axis='both', )\n",
    "fig3.set_figwidth(10)\n",
    "fig3.set_figheight(10)\n",
    "lines = ax3.plot(sugar8days.bsdate , sugar8days.bsugar, marker='o', linestyle='dashed' )\n",
    "mplcursors.cursor(lines) # or just mplcursors.cursor()\n",
    "\n"
   ]
  },
  {
   "cell_type": "code",
   "execution_count": 7,
   "metadata": {
    "tags": []
   },
   "outputs": [
    {
     "data": {
      "text/html": [
       "<div>\n",
       "<style scoped>\n",
       "    .dataframe tbody tr th:only-of-type {\n",
       "        vertical-align: middle;\n",
       "    }\n",
       "\n",
       "    .dataframe tbody tr th {\n",
       "        vertical-align: top;\n",
       "    }\n",
       "\n",
       "    .dataframe thead th {\n",
       "        text-align: right;\n",
       "    }\n",
       "</style>\n",
       "<table border=\"1\" class=\"dataframe\">\n",
       "  <thead>\n",
       "    <tr style=\"text-align: right;\">\n",
       "      <th></th>\n",
       "      <th>bsugar</th>\n",
       "    </tr>\n",
       "  </thead>\n",
       "  <tbody>\n",
       "    <tr>\n",
       "      <th>count</th>\n",
       "      <td>30.000000</td>\n",
       "    </tr>\n",
       "    <tr>\n",
       "      <th>mean</th>\n",
       "      <td>211.400000</td>\n",
       "    </tr>\n",
       "    <tr>\n",
       "      <th>std</th>\n",
       "      <td>26.559757</td>\n",
       "    </tr>\n",
       "    <tr>\n",
       "      <th>min</th>\n",
       "      <td>174.000000</td>\n",
       "    </tr>\n",
       "    <tr>\n",
       "      <th>25%</th>\n",
       "      <td>200.250000</td>\n",
       "    </tr>\n",
       "    <tr>\n",
       "      <th>50%</th>\n",
       "      <td>207.500000</td>\n",
       "    </tr>\n",
       "    <tr>\n",
       "      <th>75%</th>\n",
       "      <td>218.000000</td>\n",
       "    </tr>\n",
       "    <tr>\n",
       "      <th>max</th>\n",
       "      <td>300.000000</td>\n",
       "    </tr>\n",
       "  </tbody>\n",
       "</table>\n",
       "</div>"
      ],
      "text/plain": [
       "           bsugar\n",
       "count   30.000000\n",
       "mean   211.400000\n",
       "std     26.559757\n",
       "min    174.000000\n",
       "25%    200.250000\n",
       "50%    207.500000\n",
       "75%    218.000000\n",
       "max    300.000000"
      ]
     },
     "execution_count": 7,
     "metadata": {},
     "output_type": "execute_result"
    }
   ],
   "source": [
    "sugar8days.describe()"
   ]
  },
  {
   "cell_type": "code",
   "execution_count": 8,
   "metadata": {},
   "outputs": [
    {
     "ename": "AttributeError",
     "evalue": "'DataFrame' object has no attribute 'pdf'",
     "output_type": "error",
     "traceback": [
      "\u001b[0;31m---------------------------------------------------------------------------\u001b[0m",
      "\u001b[0;31mAttributeError\u001b[0m                            Traceback (most recent call last)",
      "\u001b[0;32m/tmp/ipykernel_28502/2279150062.py\u001b[0m in \u001b[0;36m<cell line: 1>\u001b[0;34m()\u001b[0m\n\u001b[0;32m----> 1\u001b[0;31m \u001b[0msugar8days\u001b[0m\u001b[0;34m.\u001b[0m\u001b[0mpdf\u001b[0m\u001b[0;34m\u001b[0m\u001b[0;34m\u001b[0m\u001b[0m\n\u001b[0m",
      "\u001b[0;32m/usr/lib64/python3.10/site-packages/pandas/core/generic.py\u001b[0m in \u001b[0;36m__getattr__\u001b[0;34m(self, name)\u001b[0m\n\u001b[1;32m   5485\u001b[0m         ):\n\u001b[1;32m   5486\u001b[0m             \u001b[0;32mreturn\u001b[0m \u001b[0mself\u001b[0m\u001b[0;34m[\u001b[0m\u001b[0mname\u001b[0m\u001b[0;34m]\u001b[0m\u001b[0;34m\u001b[0m\u001b[0;34m\u001b[0m\u001b[0m\n\u001b[0;32m-> 5487\u001b[0;31m         \u001b[0;32mreturn\u001b[0m \u001b[0mobject\u001b[0m\u001b[0;34m.\u001b[0m\u001b[0m__getattribute__\u001b[0m\u001b[0;34m(\u001b[0m\u001b[0mself\u001b[0m\u001b[0;34m,\u001b[0m \u001b[0mname\u001b[0m\u001b[0;34m)\u001b[0m\u001b[0;34m\u001b[0m\u001b[0;34m\u001b[0m\u001b[0m\n\u001b[0m\u001b[1;32m   5488\u001b[0m \u001b[0;34m\u001b[0m\u001b[0m\n\u001b[1;32m   5489\u001b[0m     \u001b[0;32mdef\u001b[0m \u001b[0m__setattr__\u001b[0m\u001b[0;34m(\u001b[0m\u001b[0mself\u001b[0m\u001b[0;34m,\u001b[0m \u001b[0mname\u001b[0m\u001b[0;34m:\u001b[0m \u001b[0mstr\u001b[0m\u001b[0;34m,\u001b[0m \u001b[0mvalue\u001b[0m\u001b[0;34m)\u001b[0m \u001b[0;34m->\u001b[0m \u001b[0;32mNone\u001b[0m\u001b[0;34m:\u001b[0m\u001b[0;34m\u001b[0m\u001b[0;34m\u001b[0m\u001b[0m\n",
      "\u001b[0;31mAttributeError\u001b[0m: 'DataFrame' object has no attribute 'pdf'"
     ]
    }
   ],
   "source": [
    "sugar8days.pdf"
   ]
  },
  {
   "cell_type": "markdown",
   "metadata": {},
   "source": [
    "## Blood sugar line plot and table"
   ]
  },
  {
   "cell_type": "code",
   "execution_count": null,
   "metadata": {
    "tags": []
   },
   "outputs": [],
   "source": [
    "# this one now working and showing 2 subplots Saturday, June 5, 2021 10:57:39 AM EDT\n",
    "# never got cursor to work so added mplcursors lib\n",
    "# get data\n",
    "sugeightdays = (\n",
    "    \"SELECT bsdate,bsugar FROM qtsugar WHERE bsdate > (SELECT date('now','-8 day'))\"  # pgsql\n",
    ")\n",
    "sugar8days = pd.read_sql_query(sugeightdays, myconn, parse_dates=\"bsdate\")\n",
    "fig3, ax3, = plt.subplots(1, 2)\n",
    "plt.subplot(1, 2, 1)\n",
    "# start setting up figure\n",
    "mylegend = \"7 days stats \"\n",
    "mystats = sugar8days.describe()\n",
    "plt.ylim(60, 150)\n",
    "ax3[0].set_xlabel(\"Date\")\n",
    "plt.title(\"blood sugar last 8 days\")\n",
    "ax3[0].annotate([mystats], xy=(200, 380), xycoords=\"figure points\")\n",
    "plt.setp(ax3[0].get_xticklabels(), rotation=90, fontsize=6)\n",
    "# ax3.set_xticklabels(sugar8days.bsdate, rotation=90, fontsize=6)\n",
    "plt.grid(\n",
    "    b=True, which=\"both\", axis=\"both\",\n",
    ")\n",
    "fig3.set_figwidth(15)\n",
    "fig3.set_figheight(10)\n",
    "# thetable = pd.plotting.table(fig3, sugar8days, colLabels= sugar8days.columns )\n",
    "lines = ax3[0].plot(\n",
    "    sugar8days.bsdate, sugar8days.bsugar, marker=\"o\", linestyle=\"dashed\"\n",
    ")\n",
    "plt.subplot(1, 2, 2)\n",
    "\n",
    "plt.table(\n",
    "    cellText=sugar8days.values,\n",
    "    colWidths=[0.25] * len(sugar8days.columns),\n",
    "    rowLabels=None,\n",
    "    colLabels=sugar8days.columns,\n",
    "    cellLoc=\"center\",\n",
    "    rowLoc=\"center\",\n",
    "    loc=\"center\",\n",
    ")\n",
    "mplcursors.cursor(lines)  # or just mplcursors.cursor()\n",
    "plt.show()"
   ]
  },
  {
   "cell_type": "markdown",
   "metadata": {},
   "source": [
    "## Blood pressure"
   ]
  },
  {
   "cell_type": "code",
   "execution_count": null,
   "metadata": {
    "slideshow": {
     "slide_type": "slide"
    },
    "tags": []
   },
   "outputs": [],
   "source": [
    "bpsevendays = \"SELECT bpdate ,bpsys AS systolic, bpdia AS diastolic, bphr AS pulse from  vsigns_bp where bpdate > (SELECT date('now','-8 day'))\"\n",
    "bp7days = pd.read_sql_query(bpsevendays, myconn, parse_dates = \"bpdate\")\n",
    "\n",
    "x = np.arange(len(bp7days))  # the label locations\n",
    "width = 0.35  # the width of the bars\n",
    "\n",
    "# color picker gpick\n",
    "fig , ax = plt.subplots()\n",
    "rects1 = ax.bar(x - width/2, bp7days.systolic, width, label='systolic', facecolor='#00388F')\n",
    "rects2 = ax.bar(x + width/2, bp7days.diastolic, width, label='diastolic', facecolor='#8F5600')\n",
    "rects3 = ax.bar(x + width, bp7days.pulse, width, label='pulse', facecolor='#638F00')\n",
    "ax.axhline(y=120, color='#00388F')\n",
    "ax.axhline(y=80, color='#8F5600')\n",
    "# Add some text for labels, title and custom x-axis tick labels, etc.\n",
    "ax.set_ylabel('120/80 = perfect')\n",
    "ax.set_title('Blood press 7 days')\n",
    "ax.set_xticks(x)\n",
    "ax.set_xticklabels(bp7days.bpdate, rotation=90, fontsize=6)\n",
    "ax.legend()\n",
    "\n",
    "ax.bar_label(rects1, label_type='center', color='#EEEED0')\n",
    "ax.bar_label(rects2, label_type='center')\n",
    "ax.bar_label(rects3, label_type='center')\n",
    "plt.rc('xtick', labelsize=6)\n",
    "fig.set_figheight(10)\n",
    "mplcursors.cursor(rects3)\n",
    "mplcursors.cursor(rects2)\n",
    "plt.show()"
   ]
  },
  {
   "cell_type": "code",
   "execution_count": null,
   "metadata": {},
   "outputs": [],
   "source": [
    "bp7days.describe()"
   ]
  },
  {
   "cell_type": "markdown",
   "metadata": {},
   "source": [
    "## Weight line plot and table"
   ]
  },
  {
   "cell_type": "code",
   "execution_count": null,
   "metadata": {
    "tags": []
   },
   "outputs": [],
   "source": [
    "# editied in kate for new query for weight (fatty table)\n",
    "# never got cursor to work so added mplcursors lib\n",
    "# get data\n",
    "wtdta = \"select ftime, weight from qfatty where ftime > (SELECT date('now','-14 day'))\"\n",
    "wtdata = pd.read_sql_query(wtdta, myconn, parse_dates = \"Time\")\n",
    "wtdata.rename(columns = {'ftime':'Time', 'weight':'Weight' }, inplace = True)\n",
    "   \n",
    "fig4, ax4, = plt.subplots(1, 2)\n",
    "plt.subplot(1,2,1)\n",
    "# start setting up figure\n",
    "mylegend = \"7 days stats \"\n",
    "mystats = wtdata.describe(include='float')\n",
    "plt.ylim(230,260)\n",
    "ax4[0].set_xlabel('Date')\n",
    "plt.title('weight plot')\n",
    "ax4[0].annotate([mystats], xy=(200, 380), xycoords='figure points')\n",
    "plt.setp(ax4[0].get_xticklabels(), rotation = 90, fontsize=6)\n",
    "# ax4.set_xticklabels(wtdata.bsdate, rotation=90, fontsize=6)\n",
    "plt.grid(b=True, which='both', axis='both', )\n",
    "fig4.set_figwidth(15)\n",
    "fig4.set_figheight(10)\n",
    "# thetable = pd.plotting.table(fig4, wtdata, colLabels= wtdata.columns )\n",
    "lines = ax4[0].plot(wtdata.Time , wtdata.Weight, marker='o', linestyle='dashed' )\n",
    "plt.subplot(1,2,2)\n",
    "plt.table(cellText=wtdata.values,colWidths = [0.25]*len(wtdata.columns),\n",
    "          rowLabels= None ,\n",
    "          colLabels=wtdata.columns,\n",
    "          cellLoc = 'center', rowLoc = 'center',\n",
    "          loc='center')\n",
    "mplcursors.cursor(lines) # or just mplcursors.cursor()\n",
    "plt.show()\n"
   ]
  },
  {
   "cell_type": "code",
   "execution_count": null,
   "metadata": {},
   "outputs": [],
   "source": [
    "wtdta = \"select ftime, weight from qfatty \"\n",
    "wtdata = pd.read_sql_query(wtdta, myconn, parse_dates = \"ftime\")"
   ]
  },
  {
   "cell_type": "code",
   "execution_count": null,
   "metadata": {
    "tags": []
   },
   "outputs": [],
   "source": [
    "# 2021-07-11 09:06:00\n",
    "from datetime import datetime\n",
    "import dateutil\n",
    "dt = \"7/14/2021 4:34 PM\"\n",
    "# dt = datetime.now()\n",
    "# dt = DT(dt, \"localtime\" )\n",
    "dt = datetime.strptime(dt, '%m/%d/%Y %I:M %p')"
   ]
  },
  {
   "cell_type": "code",
   "execution_count": null,
   "metadata": {},
   "outputs": [],
   "source": [
    "datetime_object = datetime.strptime('Jun 1 2005  1:33PM', '%b %d %Y %I:%M%p')\n",
    "datetime_object"
   ]
  },
  {
   "cell_type": "code",
   "execution_count": null,
   "metadata": {
    "tags": []
   },
   "outputs": [],
   "source": [
    "# d='10:23:34 PM'\n",
    "#d = '7/14/2021 4:34 PM'\n",
    "#pd.to_datetime(d,'%m/%d/%Y %H:%M')\n",
    "wtdata.describe( )\n"
   ]
  },
  {
   "cell_type": "code",
   "execution_count": null,
   "metadata": {},
   "outputs": [],
   "source": [
    "wtdata.ftime.max() - wtdata.ftime.min()"
   ]
  },
  {
   "cell_type": "code",
   "execution_count": null,
   "metadata": {},
   "outputs": [],
   "source": [
    "wtdata.weight.max() - wtdata.weight.min()"
   ]
  },
  {
   "cell_type": "code",
   "execution_count": null,
   "metadata": {},
   "outputs": [],
   "source": [
    "19/96"
   ]
  },
  {
   "cell_type": "code",
   "execution_count": null,
   "metadata": {},
   "outputs": [],
   "source": [
    "wtdata = pd.read_csv(\"/home/rfile/motog3/Bob - Export Data 7-11-2021 ~ 7-17-2021.csv\")\n",
    "wtdata.rename(columns={\"Time\": \"ftime\"}, inplace=True)\n",
    "# wtdata.ftime = pd.to_datetime(wtdata.ftime, format=\"%m/%d/%YT%H:%M\")\n",
    "wtdata.ftime = pd.to_datetime(wtdata.ftime)\n",
    "\n"
   ]
  },
  {
   "cell_type": "code",
   "execution_count": null,
   "metadata": {},
   "outputs": [],
   "source": [
    "wtdata.ftime"
   ]
  },
  {
   "cell_type": "code",
   "execution_count": null,
   "metadata": {},
   "outputs": [],
   "source": [
    "for t in wtdata.ftime:\n",
    "    t = datetime.strptime(t,\"%m/%d/%Y %I:%M %p\")\n",
    "    wtdata.replace(wtdata.ftime, t)"
   ]
  },
  {
   "cell_type": "code",
   "execution_count": null,
   "metadata": {},
   "outputs": [],
   "source": [
    "wtdata.loc[0]"
   ]
  },
  {
   "cell_type": "code",
   "execution_count": null,
   "metadata": {},
   "outputs": [],
   "source": [
    "wtdata.ftime"
   ]
  },
  {
   "cell_type": "markdown",
   "metadata": {},
   "source": [
    "## Barplots averages for sugar"
   ]
  },
  {
   "cell_type": "code",
   "execution_count": null,
   "metadata": {},
   "outputs": [],
   "source": [
    "sugnext8 = \"SELECT bsdate,bsugar FROM qtsugar WHERE bsdate < (SELECT date('now','-8 day')) and bsdate > (SELECT date('now' , '-16 day'))\"\n",
    "sugar8next = pd.read_sql_query(sugnext8, myconn, parse_dates = \"bsdate\")"
   ]
  },
  {
   "cell_type": "code",
   "execution_count": null,
   "metadata": {
    "tags": []
   },
   "outputs": [],
   "source": [
    "sugeightdays = \"SELECT bsdate,bsugar FROM qtsugar WHERE bsdate > (SELECT date('now','-8 day'))\"\n",
    "sugar8days = pd.read_sql_query(sugeightdays, myconn, parse_dates = \"bsdate\")"
   ]
  },
  {
   "cell_type": "code",
   "execution_count": null,
   "metadata": {},
   "outputs": [],
   "source": [
    "sugtoday = \"SELECT bsdate,bsugar FROM qtsugar WHERE bsdate = (SELECT date('now', '-1 day'))\"\n",
    "sugartoday = pd.read_sql_query(sugeightdays, myconn, parse_dates = \"bsdate\")"
   ]
  },
  {
   "cell_type": "code",
   "execution_count": null,
   "metadata": {
    "jupyter": {
     "source_hidden": true
    },
    "tags": []
   },
   "outputs": [],
   "source": [
    "\n",
    "\n",
    "\n",
    "sugonedays = \"SELECT bsdate,bsugar FROM qtsugar WHERE bsdate >= (SELECT date('now', '-24 hours'))\" \n",
    "sugar1days = pd.read_sql_query(sugonedays, myconn, parse_dates = \"bsdate\")\n",
    "\n",
    "\n",
    "\n",
    "\n",
    "\n",
    "# Draw a vertical bar chart\n",
    "\n",
    "plot = sugar1days.plot.bar(x=\"bsdate\", y=\"bsugar\", title=\"sugar 24 hours\")\n",
    "\n",
    "plt.tight_layout()\n",
    "plt.show()"
   ]
  },
  {
   "cell_type": "code",
   "execution_count": null,
   "metadata": {
    "tags": []
   },
   "outputs": [],
   "source": [
    "sugar1days"
   ]
  },
  {
   "cell_type": "code",
   "execution_count": null,
   "metadata": {},
   "outputs": [],
   "source": []
  },
  {
   "cell_type": "code",
   "execution_count": null,
   "metadata": {},
   "outputs": [],
   "source": []
  }
 ],
 "metadata": {
  "interpreter": {
   "hash": "31f2aee4e71d21fbe5cf8b01ff0e069b9275f58929596ceb00d14d90e3e16cd6"
  },
  "kernelspec": {
   "display_name": "Python 3 (ipykernel)",
   "language": "python",
   "name": "python3"
  },
  "language_info": {
   "codemirror_mode": {
    "name": "ipython",
    "version": 3
   },
   "file_extension": ".py",
   "mimetype": "text/x-python",
   "name": "python",
   "nbconvert_exporter": "python",
   "pygments_lexer": "ipython3",
   "version": "3.10.5"
  }
 },
 "nbformat": 4,
 "nbformat_minor": 4
}
