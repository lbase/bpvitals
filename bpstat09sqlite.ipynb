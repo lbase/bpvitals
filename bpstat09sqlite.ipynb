{
 "cells": [
  {
   "cell_type": "markdown",
   "metadata": {},
   "source": [
    "# Working bits from bpstats09pg\n"
   ]
  },
  {
   "cell_type": "markdown",
   "metadata": {
    "tags": []
   },
   "source": [
    "## moving to sqlite after trouble with queries and sequences in postgresql\n",
    "\n",
    "https://docs.sqlalchemy.org/en/14/dialects/sqlite.html#module-sqlalchemy.dialects.sqlite.pysqlite\n",
    "\n",
    "https://docs.python.org/3/library/datetime.html#strftime-and-strptime-behavior\n",
    "\n",
    "use %%black to format cell\n",
    "\n",
    "running from fedora and making change to see if push works with flatboy\n",
    "can't seem to get gitlab to show bubba as an author\n"
   ]
  },
  {
   "cell_type": "code",
   "execution_count": null,
   "metadata": {
    "tags": []
   },
   "outputs": [],
   "source": [
    "import dateutil\n",
    "import pandas as pd\n",
    "import numpy as np\n",
    "from sqlalchemy import create_engine\n",
    "from sqlalchemy import select\n",
    "from sqlalchemy.dialects.sqlite import DATETIME as DT\n",
    "import matplotlib.pyplot as plt\n",
    "# import seaborn as sb\n",
    "from matplotlib import cbook, dates\n",
    "from icecream import ic\n",
    "#from matplotlib.ticker import Formatter\n",
    "import mplcursors\n",
    "from reportlab.pdfgen import canvas\n",
    "from reportlab.platypus import SimpleDocTemplate, Table\n",
    "from reportlab.platypus import TableStyle\n",
    "from reportlab.lib import colors\n",
    "from reportlab.lib.pagesizes import letter\n",
    "# %matplotlib widget\n",
    "# this gives seperate window qt widget for figures\n",
    "%matplotlib qt5\n",
    "# %matplotlib inline\n",
    "# %load_ext blackcellmagic\n",
    "eng = create_engine(\"sqlite:////data/sqlite/vitals.db\")\n",
    "myconn = eng.connect()"
   ]
  },
  {
   "cell_type": "markdown",
   "metadata": {
    "tags": []
   },
   "source": [
    "## Blood sugar line plot"
   ]
  },
  {
   "cell_type": "code",
   "execution_count": null,
   "metadata": {},
   "outputs": [],
   "source": [
    "myconn"
   ]
  },
  {
   "cell_type": "code",
   "execution_count": null,
   "metadata": {},
   "outputs": [],
   "source": [
    "c = canvas.Canvas(\"reportlab_pdf.pdf\")\n",
    "c.drawString(100,100,\"Hello World\")\n",
    "c.showPage()\n",
    "c.save()"
   ]
  },
  {
   "cell_type": "code",
   "execution_count": null,
   "metadata": {
    "tags": []
   },
   "outputs": [],
   "source": [
    "#  this one working and showing the variable mystats n\n",
    "# never got cursor to work so added mplcursors lib\n",
    "# get data\n",
    "sugeightdays = \"SELECT bsdate,bsugar FROM qtsugar WHERE bsdate > (SELECT date('now','-8 day'))\"\n",
    "sugar8days = pd.read_sql_query(sugeightdays, myconn, parse_dates = \"bsdate\")\n",
    "# start setting up figure\n",
    "mylegend = \"7 days stats \"\n",
    "mystats = sugar8days.describe(include='int')\n",
    "sugar8days=sugar8days.sort_values(\"bsdate\")\n",
    "fig3, ax3 = plt.subplots()\n",
    "plt.ylim(60,150)\n",
    "ax3.set_xlabel('Date')\n",
    "plt.title('blood sugar last 8 days')\n",
    "ax3.annotate([mystats], xy=(200, 380), xycoords='figure points')\n",
    "plt.setp(ax3.get_xticklabels(), rotation = 90, fontsize=6)\n",
    "#ax3.set_xticklabels(sugar8days.bsdate, rotation=90, fontsize=6)\n",
    "#plt.grid(b=True, which='both', axis='both', )\n",
    "plt.grid\n",
    "fig3.set_figwidth(10)\n",
    "fig3.set_figheight(10)\n",
    "lines = ax3.plot(sugar8days.bsdate , sugar8days.bsugar, marker='o', linestyle='dashed' )\n",
    "mplcursors.cursor(lines) # or just mplcursors.cursor()\n",
    "\n"
   ]
  },
  {
   "cell_type": "code",
   "execution_count": null,
   "metadata": {
    "tags": []
   },
   "outputs": [],
   "source": [
    "sugar8days.describe()"
   ]
  },
  {
   "cell_type": "code",
   "execution_count": null,
   "metadata": {},
   "outputs": [],
   "source": [
    "sugar8days.pdf"
   ]
  },
  {
   "cell_type": "markdown",
   "metadata": {},
   "source": [
    "## Blood sugar line plot and table"
   ]
  },
  {
   "cell_type": "code",
   "execution_count": null,
   "metadata": {
    "tags": []
   },
   "outputs": [],
   "source": [
    "# this one now working and showing 2 subplots Saturday, June 5, 2021 10:57:39 AM EDT\n",
    "# never got cursor to work so added mplcursors lib\n",
    "# get data\n",
    "sugeightdays = (\n",
    "    \"SELECT bsdate,bsugar FROM qtsugar WHERE bsdate > (SELECT date('now','-8 day'))\"  # pgsql\n",
    ")\n",
    "sugar8days = pd.read_sql_query(sugeightdays, myconn, parse_dates=\"bsdate\")\n",
    "fig3, ax3, = plt.subplots(1, 2)\n",
    "plt.subplot(1, 2, 1)\n",
    "# start setting up figure\n",
    "mylegend = \"7 days stats \"\n",
    "mystats = sugar8days.describe()\n",
    "plt.ylim(60, 150)\n",
    "ax3[0].set_xlabel(\"Date\")\n",
    "plt.title(\"blood sugar last 8 days\")\n",
    "ax3[0].annotate([mystats], xy=(200, 380), xycoords=\"figure points\")\n",
    "plt.setp(ax3[0].get_xticklabels(), rotation=90, fontsize=6)\n",
    "# ax3.set_xticklabels(sugar8days.bsdate, rotation=90, fontsize=6)\n",
    "plt.grid(\n",
    "    b=True, which=\"both\", axis=\"both\",\n",
    ")\n",
    "fig3.set_figwidth(15)\n",
    "fig3.set_figheight(10)\n",
    "# thetable = pd.plotting.table(fig3, sugar8days, colLabels= sugar8days.columns )\n",
    "lines = ax3[0].plot(\n",
    "    sugar8days.bsdate, sugar8days.bsugar, marker=\"o\", linestyle=\"dashed\"\n",
    ")\n",
    "plt.subplot(1, 2, 2)\n",
    "\n",
    "plt.table(\n",
    "    cellText=sugar8days.values,\n",
    "    colWidths=[0.25] * len(sugar8days.columns),\n",
    "    rowLabels=None,\n",
    "    colLabels=sugar8days.columns,\n",
    "    cellLoc=\"center\",\n",
    "    rowLoc=\"center\",\n",
    "    loc=\"center\",\n",
    ")\n",
    "mplcursors.cursor(lines)  # or just mplcursors.cursor()\n",
    "plt.show()"
   ]
  },
  {
   "cell_type": "markdown",
   "metadata": {},
   "source": [
    "## Blood pressure"
   ]
  },
  {
   "cell_type": "code",
   "execution_count": 25,
   "metadata": {
    "slideshow": {
     "slide_type": "slide"
    },
    "tags": []
   },
   "outputs": [],
   "source": [
    "bpsevendays = \"SELECT bpdate ,bpsys AS systolic, bpdia AS diastolic, bphr AS pulse from  vsigns_bp where bpdate > (SELECT date('now','-8 day'))\"\n",
    "bp7days = pd.read_sql_query(bpsevendays, myconn, parse_dates = \"bpdate\")\n",
    "\n",
    "x = np.arange(len(bp7days))  # the label locations\n",
    "width = 0.35  # the width of the bars\n",
    "\n",
    "# color picker gpick\n",
    "fig , ax = plt.subplots()\n",
    "rects1 = ax.bar(x - width/2, bp7days.systolic, width, label='systolic', facecolor='#00388F')\n",
    "rects2 = ax.bar(x + width/2, bp7days.diastolic, width, label='diastolic', facecolor='#8F5600')\n",
    "rects3 = ax.bar(x + width, bp7days.pulse, width, label='pulse', facecolor='#638F00')\n",
    "ax.axhline(y=120, color='#00388F')\n",
    "ax.axhline(y=80, color='#8F5600')\n",
    "# Add some text for labels, title and custom x-axis tick labels, etc.\n",
    "ax.set_ylabel('120/80 = perfect')\n",
    "ax.set_title('Blood press 7 days')\n",
    "ax.set_xticks(x)\n",
    "ax.set_xticklabels(bp7days.bpdate, rotation=90, fontsize=6)\n",
    "ax.legend()\n",
    "\n",
    "ax.bar_label(rects1, label_type='center', color='#EEEED0')\n",
    "ax.bar_label(rects2, label_type='center')\n",
    "ax.bar_label(rects3, label_type='center')\n",
    "plt.rc('xtick', labelsize=6)\n",
    "fig.set_figheight(10)\n",
    "mplcursors.cursor(rects3)\n",
    "mplcursors.cursor(rects2)\n",
    "plt.show()"
   ]
  },
  {
   "cell_type": "code",
   "execution_count": 26,
   "metadata": {},
   "outputs": [
    {
     "data": {
      "text/html": [
       "<div>\n",
       "<style scoped>\n",
       "    .dataframe tbody tr th:only-of-type {\n",
       "        vertical-align: middle;\n",
       "    }\n",
       "\n",
       "    .dataframe tbody tr th {\n",
       "        vertical-align: top;\n",
       "    }\n",
       "\n",
       "    .dataframe thead th {\n",
       "        text-align: right;\n",
       "    }\n",
       "</style>\n",
       "<table border=\"1\" class=\"dataframe\">\n",
       "  <thead>\n",
       "    <tr style=\"text-align: right;\">\n",
       "      <th></th>\n",
       "      <th>bpdate</th>\n",
       "      <th>systolic</th>\n",
       "      <th>diastolic</th>\n",
       "      <th>pulse</th>\n",
       "    </tr>\n",
       "  </thead>\n",
       "  <tbody>\n",
       "    <tr>\n",
       "      <th>count</th>\n",
       "      <td>3</td>\n",
       "      <td>3.000000</td>\n",
       "      <td>3.000000</td>\n",
       "      <td>3.000000</td>\n",
       "    </tr>\n",
       "    <tr>\n",
       "      <th>mean</th>\n",
       "      <td>2024-03-09 09:02:40</td>\n",
       "      <td>145.333333</td>\n",
       "      <td>92.666667</td>\n",
       "      <td>88.333333</td>\n",
       "    </tr>\n",
       "    <tr>\n",
       "      <th>min</th>\n",
       "      <td>2024-03-05 18:21:00</td>\n",
       "      <td>142.000000</td>\n",
       "      <td>88.000000</td>\n",
       "      <td>83.000000</td>\n",
       "    </tr>\n",
       "    <tr>\n",
       "      <th>25%</th>\n",
       "      <td>2024-03-08 03:39:00</td>\n",
       "      <td>143.000000</td>\n",
       "      <td>88.000000</td>\n",
       "      <td>85.000000</td>\n",
       "    </tr>\n",
       "    <tr>\n",
       "      <th>50%</th>\n",
       "      <td>2024-03-10 12:57:00</td>\n",
       "      <td>144.000000</td>\n",
       "      <td>88.000000</td>\n",
       "      <td>87.000000</td>\n",
       "    </tr>\n",
       "    <tr>\n",
       "      <th>75%</th>\n",
       "      <td>2024-03-11 04:23:30</td>\n",
       "      <td>147.000000</td>\n",
       "      <td>95.000000</td>\n",
       "      <td>91.000000</td>\n",
       "    </tr>\n",
       "    <tr>\n",
       "      <th>max</th>\n",
       "      <td>2024-03-11 19:50:00</td>\n",
       "      <td>150.000000</td>\n",
       "      <td>102.000000</td>\n",
       "      <td>95.000000</td>\n",
       "    </tr>\n",
       "    <tr>\n",
       "      <th>std</th>\n",
       "      <td>NaN</td>\n",
       "      <td>4.163332</td>\n",
       "      <td>8.082904</td>\n",
       "      <td>6.110101</td>\n",
       "    </tr>\n",
       "  </tbody>\n",
       "</table>\n",
       "</div>"
      ],
      "text/plain": [
       "                    bpdate    systolic   diastolic      pulse\n",
       "count                    3    3.000000    3.000000   3.000000\n",
       "mean   2024-03-09 09:02:40  145.333333   92.666667  88.333333\n",
       "min    2024-03-05 18:21:00  142.000000   88.000000  83.000000\n",
       "25%    2024-03-08 03:39:00  143.000000   88.000000  85.000000\n",
       "50%    2024-03-10 12:57:00  144.000000   88.000000  87.000000\n",
       "75%    2024-03-11 04:23:30  147.000000   95.000000  91.000000\n",
       "max    2024-03-11 19:50:00  150.000000  102.000000  95.000000\n",
       "std                    NaN    4.163332    8.082904   6.110101"
      ]
     },
     "execution_count": 26,
     "metadata": {},
     "output_type": "execute_result"
    }
   ],
   "source": [
    "bp7days.describe()"
   ]
  },
  {
   "cell_type": "markdown",
   "metadata": {},
   "source": [
    "## Weight line plot and table"
   ]
  },
  {
   "cell_type": "code",
   "execution_count": 24,
   "metadata": {
    "scrolled": true,
    "tags": []
   },
   "outputs": [],
   "source": [
    "# editied in kate for new query for weight (fatty table)\n",
    "# never got cursor to work so added mplcursors lib\n",
    "# get data\n",
    "# wtdta = \"select ftime, weight from qfatty where ftime > (SELECT date('now','-30 day'))\" # original 14 days\n",
    "wtdta = \"select ftime, weight from (select ftime, weight from fatty order by ftime desc limit 30) order by ftime asc\"\n",
    "wtdata = pd.read_sql_query(wtdta, myconn, parse_dates = \"Time\")\n",
    "wtdata.rename(columns = {'ftime':'Time', 'weight':'Weight' }, inplace = True)\n",
    "   \n",
    "fig4, ax4, = plt.subplots(1, 2)\n",
    "plt.subplot(1,2,1)\n",
    "# start setting up figure\n",
    "mylegend = \"7 days stats \"\n",
    "mystats = wtdata.describe(include='float')\n",
    "plt.ylim(230,260)\n",
    "ax4[0].set_xlabel('Date')\n",
    "plt.title('weight plot')\n",
    "ax4[0].annotate([mystats], xy=(200, 380), xycoords='figure points')\n",
    "plt.setp(ax4[0].get_xticklabels(), rotation = 90, fontsize=6)\n",
    "# ax4.set_xticklabels(wtdata.bsdate, rotation=90, fontsize=6)\n",
    "plt.grid(visible=True, which='both', axis='both', )\n",
    "fig4.set_figwidth(15)\n",
    "fig4.set_figheight(10)\n",
    "# thetable = pd.plotting.table(fig4, wtdata, colLabels= wtdata.columns )\n",
    "lines = ax4[0].plot(wtdata.Time , wtdata.Weight, marker='o', linestyle='dashed' )\n",
    "plt.subplot(1,2,2)\n",
    "plt.table(cellText=wtdata.values,colWidths = [0.25]*len(wtdata.columns),\n",
    "          rowLabels= None ,\n",
    "          colLabels=wtdata.columns,\n",
    "          cellLoc = 'center', rowLoc = 'center',\n",
    "          loc='center')\n",
    "mplcursors.cursor(lines) # or just mplcursors.cursor()\n",
    "plt.show()\n"
   ]
  },
  {
   "cell_type": "markdown",
   "metadata": {},
   "source": [
    "# Edit for lineplot only"
   ]
  },
  {
   "cell_type": "code",
   "execution_count": null,
   "metadata": {
    "scrolled": true,
    "tags": []
   },
   "outputs": [],
   "source": [
    "# jupyter to get just line graph of weight (fatty table)\n",
    "# never got cursor to work so added mplcursors lib\n",
    "# get data\n",
    "# wtdta = \"select ftime, weight from qfatty where ftime > (SELECT date('now','-30 day'))\" # original 14 days\n",
    "wtdta = \"select ftime, weight from (select ftime, weight from fatty order by ftime desc limit 30) order by ftime asc\"\n",
    "wtdata = pd.read_sql_query(wtdta, myconn, parse_dates = \"ftime\" )\n",
    "# wtdata['ftime'] = pd.to_datetime(wtdata['ftime'])\n",
    "wtdata['ftime'] = pd.to_datetime(wtdata.ftime)\n",
    "wtdata['ftime'] = wtdata['ftime'].dt.strftime('%Y-%m-%d %H:%M')\n",
    "# wtdata['ftime'] = wtdata['ftime'].dt.floor('Min')\n",
    "wtdata.rename(columns = {'ftime':'Time', 'weight':'Weight' }, inplace = True)\n",
    "\n",
    "formatter = dates.DateFormatter('%Y-%m-%d %H:%M')\n",
    "\n",
    "fig4, ax4, = plt.subplots()\n",
    "#plt.subplot()\n",
    "# start setting up figure\n",
    "mylegend = \"Weight 30 entries \"\n",
    "mystats = wtdata.describe(include='float')\n",
    "plt.ylim(230,260)\n",
    "ax4.set_xlabel('Date')\n",
    "plt.title('weight plot')\n",
    "ax4.annotate([mystats], xy=(200, 380), xycoords='figure points')\n",
    "\n",
    "\n",
    "plt.grid(visible=True, which='both', axis='both', )\n",
    "fig4.set_figwidth(25)\n",
    "fig4.set_figheight(10)\n",
    "# thetable = pd.plotting.table(fig4, wtdata, colLabels= wtdata.columns )\n",
    "lines = ax4.plot(wtdata.Time , wtdata.Weight, marker='o', linestyle='dashed' )\n",
    "# df['date_string'] = df['DateTime'].dt.strftime('%Y-%m-%d %H:%M:%S') \n",
    "# df['start_date_time'] = df['start_date_time'].dt.floor('T')\n",
    "#df['DateTime'] = pd.to_datetime(df['DateTime'], format='%Y-%m-%d %H:%M:%S')\n",
    "#df.plot(x='DateTime', y='Value')\n",
    "#formatter = dates.DateFormatter('%Y-%m-%d %H:%M') \n",
    "#plt.setp(ax4.xaxis.set_major_formatter(formatter))\n",
    "plt.setp(ax4.get_xticklabels(), rotation = 60, fontsize=6)\n",
    "mplcursors.cursor(lines) # or just mplcursors.cursor()\n",
    "plt.ion()\n",
    "plt.show()\n"
   ]
  },
  {
   "cell_type": "code",
   "execution_count": null,
   "metadata": {},
   "outputs": [],
   "source": [
    "wtdata"
   ]
  },
  {
   "cell_type": "code",
   "execution_count": null,
   "metadata": {},
   "outputs": [],
   "source": [
    "wtdta = \"select ftime, weight from qfatty \"\n",
    "wtdata = pd.read_sql_query(wtdta, myconn, parse_dates = \"ftime\")"
   ]
  },
  {
   "cell_type": "code",
   "execution_count": null,
   "metadata": {
    "tags": []
   },
   "outputs": [],
   "source": [
    "# 2021-07-11 09:06:00\n",
    "from datetime import datetime\n",
    "import dateutil\n",
    "dt = \"7/14/2021 4:34 PM\"\n",
    "# dt = datetime.now()\n",
    "# dt = DT(dt, \"localtime\" )\n",
    "dt = datetime.strptime(dt, '%m/%d/%Y %I:M %p')"
   ]
  },
  {
   "cell_type": "code",
   "execution_count": null,
   "metadata": {},
   "outputs": [],
   "source": [
    "datetime_object = datetime.strptime('Jun 1 2005  1:33PM', '%b %d %Y %I:%M%p')\n",
    "datetime_object"
   ]
  },
  {
   "cell_type": "code",
   "execution_count": null,
   "metadata": {
    "tags": []
   },
   "outputs": [],
   "source": [
    "# d='10:23:34 PM'\n",
    "#d = '7/14/2021 4:34 PM'\n",
    "#pd.to_datetime(d,'%m/%d/%Y %H:%M')\n",
    "wtdata.describe( )\n"
   ]
  },
  {
   "cell_type": "code",
   "execution_count": null,
   "metadata": {},
   "outputs": [],
   "source": [
    "wtdata.ftime.max() - wtdata.ftime.min()"
   ]
  },
  {
   "cell_type": "code",
   "execution_count": null,
   "metadata": {},
   "outputs": [],
   "source": [
    "wtdata.weight.max() - wtdata.weight.min()"
   ]
  },
  {
   "cell_type": "code",
   "execution_count": null,
   "metadata": {},
   "outputs": [],
   "source": [
    "19/96"
   ]
  },
  {
   "cell_type": "code",
   "execution_count": null,
   "metadata": {},
   "outputs": [],
   "source": [
    "wtdata = pd.read_csv(\"/home/rfile/motog3/Bob - Export Data 7-11-2021 ~ 7-17-2021.csv\")\n",
    "wtdata.rename(columns={\"Time\": \"ftime\"}, inplace=True)\n",
    "# wtdata.ftime = pd.to_datetime(wtdata.ftime, format=\"%m/%d/%YT%H:%M\")\n",
    "wtdata.ftime = pd.to_datetime(wtdata.ftime)\n",
    "\n"
   ]
  },
  {
   "cell_type": "code",
   "execution_count": null,
   "metadata": {},
   "outputs": [],
   "source": [
    "wtdata.ftime"
   ]
  },
  {
   "cell_type": "code",
   "execution_count": null,
   "metadata": {},
   "outputs": [],
   "source": [
    "for t in wtdata.ftime:\n",
    "    t = datetime.strptime(t,\"%m/%d/%Y %I:%M %p\")\n",
    "    wtdata.replace(wtdata.ftime, t)"
   ]
  },
  {
   "cell_type": "code",
   "execution_count": null,
   "metadata": {},
   "outputs": [],
   "source": [
    "wtdata.loc[0]"
   ]
  },
  {
   "cell_type": "code",
   "execution_count": null,
   "metadata": {},
   "outputs": [],
   "source": [
    "wtdata.ftime"
   ]
  },
  {
   "cell_type": "markdown",
   "metadata": {
    "tags": []
   },
   "source": [
    "## Barplots averages for sugar"
   ]
  },
  {
   "cell_type": "code",
   "execution_count": null,
   "metadata": {},
   "outputs": [],
   "source": [
    "sugnext8 = \"SELECT bsdate,bsugar FROM qtsugar WHERE bsdate < (SELECT date('now','-8 day')) and bsdate > (SELECT date('now' , '-16 day'))\"\n",
    "sugar8next = pd.read_sql_query(sugnext8, myconn, parse_dates = \"bsdate\")"
   ]
  },
  {
   "cell_type": "code",
   "execution_count": null,
   "metadata": {
    "tags": []
   },
   "outputs": [],
   "source": [
    "sugeightdays = \"SELECT bsdate,bsugar FROM qtsugar WHERE bsdate > (SELECT date('now','-8 day'))\"\n",
    "sugar8days = pd.read_sql_query(sugeightdays, myconn, parse_dates = \"bsdate\")"
   ]
  },
  {
   "cell_type": "code",
   "execution_count": null,
   "metadata": {},
   "outputs": [],
   "source": [
    "sugtoday = \"SELECT bsdate,bsugar FROM qtsugar WHERE bsdate = (SELECT date('now', '-1 day'))\"\n",
    "sugartoday = pd.read_sql_query(sugeightdays, myconn, parse_dates = \"bsdate\")"
   ]
  },
  {
   "cell_type": "code",
   "execution_count": 21,
   "metadata": {
    "tags": []
   },
   "outputs": [],
   "source": [
    "\n",
    "\n",
    "\n",
    "sugonedays = \"SELECT bsdate,bsugar FROM qtsugar WHERE bsdate >= (SELECT date('now', '-24 hours'))\" \n",
    "sugar1days = pd.read_sql_query(sugonedays, myconn, parse_dates = \"bsdate\")\n",
    "\n",
    "\n",
    "\n",
    "\n",
    "\n",
    "# Draw a vertical bar chart\n",
    "\n",
    "plot = sugar1days.plot.bar(x=\"bsdate\", y=\"bsugar\", title=\"sugar 24 hours\")\n",
    "\n",
    "plt.tight_layout()\n",
    "plt.show()"
   ]
  },
  {
   "cell_type": "code",
   "execution_count": 31,
   "metadata": {
    "tags": []
   },
   "outputs": [
    {
     "data": {
      "text/plain": [
       "Index(['bsdate', 'bsugar'], dtype='object')"
      ]
     },
     "execution_count": 31,
     "metadata": {},
     "output_type": "execute_result"
    }
   ],
   "source": [
    "sugar1days.columns"
   ]
  },
  {
   "cell_type": "markdown",
   "metadata": {},
   "source": [
    "## Make a report\n",
    "\n",
    "Use DataFrame. columns. values. tolist() "
   ]
  },
  {
   "cell_type": "code",
   "execution_count": 47,
   "metadata": {},
   "outputs": [
    {
     "ename": "NameError",
     "evalue": "name 'styles' is not defined",
     "output_type": "error",
     "traceback": [
      "\u001b[0;31m---------------------------------------------------------------------------\u001b[0m",
      "\u001b[0;31mNameError\u001b[0m                                 Traceback (most recent call last)",
      "Cell \u001b[0;32mIn[47], line 19\u001b[0m\n\u001b[1;32m     17\u001b[0m doc \u001b[38;5;241m=\u001b[39m SimpleDocTemplate(\u001b[38;5;124m\"\u001b[39m\u001b[38;5;124mtable.pdf\u001b[39m\u001b[38;5;124m\"\u001b[39m, pagesize\u001b[38;5;241m=\u001b[39mletter)\n\u001b[1;32m     18\u001b[0m element \u001b[38;5;241m=\u001b[39m []\n\u001b[0;32m---> 19\u001b[0m element\u001b[38;5;241m.\u001b[39mappend(Paragraph((sugar1header),\u001b[43mstyles\u001b[49m[\u001b[38;5;124m\"\u001b[39m\u001b[38;5;124mTitle\u001b[39m\u001b[38;5;124m\"\u001b[39m]))\n\u001b[1;32m     20\u001b[0m element\u001b[38;5;241m.\u001b[39mappend(sugar1header)\n\u001b[1;32m     21\u001b[0m element\u001b[38;5;241m.\u001b[39mappend(t1)\n",
      "\u001b[0;31mNameError\u001b[0m: name 'styles' is not defined"
     ]
    }
   ],
   "source": [
    "from reportlab.pdfgen import canvas\n",
    "from reportlab.platypus import SimpleDocTemplate, Table\n",
    "from reportlab.platypus import TableStyle\n",
    "from reportlab.lib import colors\n",
    "from reportlab.lib.pagesizes import letter\n",
    "from reportlab.platypus import SimpleDocTemplate, Table, TableStyle\n",
    "sugar1header = (sugar1days.columns.values.tolist())\n",
    "\n",
    "GRID_STYLE = TableStyle(\n",
    "            [('GRID', (0, 0), (-1, -1), 0.25, colors.green),\n",
    "            ('ALIGN', (1, 0), (-1, -1), 'RIGHT')])\n",
    "\n",
    "\n",
    "t1 = Table(np.array(sugar1days).tolist())\n",
    "\n",
    "t1.setStyle(GRID_STYLE) \n",
    "doc = SimpleDocTemplate(\"table.pdf\", pagesize=letter)\n",
    "element = []\n",
    "element.append(Paragraph((sugar1header),styles[\"Title\"]))\n",
    "element.append(sugar1header)\n",
    "element.append(t1)\n",
    "\n",
    "doc.build(element)"
   ]
  },
  {
   "cell_type": "code",
   "execution_count": 46,
   "metadata": {},
   "outputs": [
    {
     "data": {
      "text/plain": [
       "[Timestamp('2024-03-11 08:59:00'), 224]"
      ]
     },
     "execution_count": 46,
     "metadata": {},
     "output_type": "execute_result"
    }
   ],
   "source": [
    "sugar1header"
   ]
  },
  {
   "cell_type": "code",
   "execution_count": null,
   "metadata": {},
   "outputs": [],
   "source": [
    "# from reportlab.pdfgen.canvas import Canvas\n",
    "# import the canvas object\n",
    "from reportlab.pdfgen import canvas\n",
    "\n",
    "# create a Canvas object with a filename\n",
    "c = canvas.Canvas(\"rt.pdf\", pagesize=(595.27, 841.89))  # A4 pagesize\n",
    "# draw a string at x=100, y=800 points\n",
    "# point ~ standard desktop publishing (72 DPI)\n",
    "# coordinate system:\n",
    "#   y\n",
    "#   |\n",
    "#   |   page\n",
    "#   |\n",
    "#   |\n",
    "#   0-------x\n",
    "#c.drawString(50, 780, \"Hello Again\")\n",
    "c.drawString(50,780, sugar1days)\n",
    "# finish page\n",
    "c.showPage()\n",
    "# construct and save file to .pdf\n",
    "c.save()\n"
   ]
  },
  {
   "cell_type": "code",
   "execution_count": 27,
   "metadata": {},
   "outputs": [],
   "source": [
    "from reportlab.lib import colors\n",
    "from reportlab.lib.pagesizes import letter\n",
    "from reportlab.platypus import Table, TableStyle, Paragraph\n",
    "from reportlab.pdfgen.canvas import Canvas\n",
    "from reportlab.lib.styles import getSampleStyleSheet\n",
    "\n",
    "# Create a table\n",
    "data = [\n",
    "    ['Name', 'Age', 'City'],\n",
    "    ['Alice', 25, 'London'],\n",
    "    ['Bob', 30, 'Paris'],\n",
    "    ['Charlie', 35, 'Rome'],\n",
    "]\n",
    "table = Table(data)\n",
    "\n",
    "# Create a table style\n",
    "style = TableStyle([\n",
    "    ('ALIGN', (0, 0), (-1, -1), 'CENTER'),\n",
    "    ('VALIGN', (0, 0), (-1, -1), 'MIDDLE'),\n",
    "    ('INNERGRID', (0, 0), (-1, -1), 0.25, colors.black),\n",
    "    ('BOX', (0, 0), (-1, -1), 0.25, colors.black),\n",
    "])\n",
    "\n",
    "# Apply the table style to the table\n",
    "table.setStyle(style)\n",
    "\n",
    "# Create a canvas\n",
    "canvas = Canvas('table.pdf', pagesize=letter)\n",
    "\n",
    "# Draw the table on the canvas\n",
    "table.wrapOn(canvas, 100, 100)\n",
    "table.drawOn(canvas, 100, 100)\n",
    "\n",
    "# Save the canvas\n",
    "canvas.save()"
   ]
  },
  {
   "cell_type": "code",
   "execution_count": null,
   "metadata": {},
   "outputs": [],
   "source": []
  }
 ],
 "metadata": {
  "interpreter": {
   "hash": "31f2aee4e71d21fbe5cf8b01ff0e069b9275f58929596ceb00d14d90e3e16cd6"
  },
  "kernelspec": {
   "display_name": "Python 3 (ipykernel)",
   "language": "python",
   "name": "python3"
  },
  "language_info": {
   "codemirror_mode": {
    "name": "ipython",
    "version": 3
   },
   "file_extension": ".py",
   "mimetype": "text/x-python",
   "name": "python",
   "nbconvert_exporter": "python",
   "pygments_lexer": "ipython3",
   "version": "3.12.2"
  }
 },
 "nbformat": 4,
 "nbformat_minor": 4
}
