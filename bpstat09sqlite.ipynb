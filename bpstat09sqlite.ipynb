{
 "cells": [
  {
   "cell_type": "markdown",
   "metadata": {},
   "source": [
    "# Working bits from bpstats09pg\n"
   ]
  },
  {
   "cell_type": "markdown",
   "metadata": {
    "tags": []
   },
   "source": [
    "## moving to sqlite after trouble with queries and sequences in postgresql\n",
    "\n",
    "https://docs.sqlalchemy.org/en/14/dialects/sqlite.html#module-sqlalchemy.dialects.sqlite.pysqlite\n",
    "\n",
    "use %%black to format cell"
   ]
  },
  {
   "cell_type": "code",
   "execution_count": null,
   "metadata": {
    "tags": []
   },
   "outputs": [],
   "source": [
    "import dateutil.parser\n",
    "import pandas as pd\n",
    "import numpy as np\n",
    "from sqlalchemy import create_engine\n",
    "from sqlalchemy import select\n",
    "import matplotlib.pyplot as plt\n",
    "import seaborn as sb\n",
    "from matplotlib import cbook, dates\n",
    "from icecream import ic\n",
    "#from matplotlib.ticker import Formatter\n",
    "import mplcursors\n",
    "# %matplotlib widget\n",
    "# this gives seperate window qt widget for figures\n",
    "%matplotlib qt5 \n",
    "%load_ext blackcellmagic\n",
    "eng = create_engine(\"sqlite:////home/rfile/python3/bpvitals/vitals.db\")\n",
    "myconn = eng.connect()"
   ]
  },
  {
   "cell_type": "markdown",
   "metadata": {
    "tags": []
   },
   "source": [
    "## Blood sugar line plot"
   ]
  },
  {
   "cell_type": "code",
   "execution_count": null,
   "metadata": {
    "tags": []
   },
   "outputs": [],
   "source": [
    "#  this one working and showing the variable mystats n\n",
    "# never got cursor to work so added mplcursors lib\n",
    "# get data\n",
    "sugeightdays = \"SELECT bsdate,bsugar FROM sugar WHERE bsdate > NOW() - '8 DAYS'::INTERVAL\"\n",
    "sugar8days = pd.read_sql_query(sugeightdays, myconn, parse_dates = \"bsdate\")\n",
    "# start setting up figure\n",
    "mylegend = \"7 days stats \"\n",
    "mystats = sugar8days.describe(include='int')\n",
    "sugar8days=sugar8days.sort_values(\"bsdate\")\n",
    "fig3, ax3 = plt.subplots()\n",
    "plt.ylim(60,150)\n",
    "ax3.set_xlabel('Date')\n",
    "plt.title('blood sugar last 8 days')\n",
    "ax3.annotate([mystats], xy=(200, 380), xycoords='figure points')\n",
    "plt.setp(ax3.get_xticklabels(), rotation = 90, fontsize=6)\n",
    "#ax3.set_xticklabels(sugar8days.bsdate, rotation=90, fontsize=6)\n",
    "plt.grid(b=True, which='both', axis='both', )\n",
    "fig3.set_figwidth(10)\n",
    "fig3.set_figheight(10)\n",
    "lines = ax3.plot(sugar8days.bsdate , sugar8days.bsugar, marker='o', linestyle='dashed' )\n",
    "mplcursors.cursor(lines) # or just mplcursors.cursor()\n",
    "\n"
   ]
  },
  {
   "cell_type": "code",
   "execution_count": null,
   "metadata": {},
   "outputs": [],
   "source": [
    "sugar8days.describe()"
   ]
  },
  {
   "cell_type": "markdown",
   "metadata": {},
   "source": [
    "## Blood sugar line plot and table"
   ]
  },
  {
   "cell_type": "code",
   "execution_count": null,
   "metadata": {
    "tags": []
   },
   "outputs": [],
   "source": [
    "# this one now working and showing 2 subplots Saturday, June 5, 2021 10:57:39 AM EDT\n",
    "# never got cursor to work so added mplcursors lib\n",
    "# get data\n",
    "sugeightdays = (\n",
    "    \"SELECT bsdate,bsugar FROM sugar WHERE bsdate > NOW() - '8 DAYS'::INTERVAL\"  # pgsql\n",
    ")\n",
    "sugar8days = pd.read_sql_query(sugeightdays, myconn, parse_dates=\"bsdate\")\n",
    "fig3, ax3, = plt.subplots(1, 2)\n",
    "plt.subplot(1, 2, 1)\n",
    "# start setting up figure\n",
    "mylegend = \"7 days stats \"\n",
    "mystats = sugar8days.describe(include=\"int\")\n",
    "plt.ylim(60, 150)\n",
    "ax3[0].set_xlabel(\"Date\")\n",
    "plt.title(\"blood sugar last 8 days\")\n",
    "ax3[0].annotate([mystats], xy=(200, 380), xycoords=\"figure points\")\n",
    "plt.setp(ax3[0].get_xticklabels(), rotation=90, fontsize=6)\n",
    "# ax3.set_xticklabels(sugar8days.bsdate, rotation=90, fontsize=6)\n",
    "plt.grid(\n",
    "    b=True, which=\"both\", axis=\"both\",\n",
    ")\n",
    "fig3.set_figwidth(15)\n",
    "fig3.set_figheight(10)\n",
    "# thetable = pd.plotting.table(fig3, sugar8days, colLabels= sugar8days.columns )\n",
    "lines = ax3[0].plot(\n",
    "    sugar8days.bsdate, sugar8days.bsugar, marker=\"o\", linestyle=\"dashed\"\n",
    ")\n",
    "plt.subplot(1, 2, 2)\n",
    "\n",
    "plt.table(\n",
    "    cellText=sugar8days.values,\n",
    "    colWidths=[0.25] * len(sugar8days.columns),\n",
    "    rowLabels=None,\n",
    "    colLabels=sugar8days.columns,\n",
    "    cellLoc=\"center\",\n",
    "    rowLoc=\"center\",\n",
    "    loc=\"center\",\n",
    ")\n",
    "mplcursors.cursor(lines)  # or just mplcursors.cursor()\n",
    "plt.show()"
   ]
  },
  {
   "cell_type": "markdown",
   "metadata": {},
   "source": [
    "## Blood pressure"
   ]
  },
  {
   "cell_type": "code",
   "execution_count": null,
   "metadata": {
    "slideshow": {
     "slide_type": "slide"
    },
    "tags": []
   },
   "outputs": [],
   "source": [
    "bpsevendays = \"SELECT bpdate ,bpsys AS systolic, bpdia AS diastolic, bphr AS pulse from  vsigns_bloodpressure where bpdate > NOW() - '8 DAYS'::INTERVAL\"\n",
    "bp7days = pd.read_sql_query(bpsevendays, myconn, parse_dates = \"bpdate\")\n",
    "\n",
    "x = np.arange(len(bp7days))  # the label locations\n",
    "width = 0.35  # the width of the bars\n",
    "\n",
    "# color picker gpick\n",
    "fig , ax = plt.subplots()\n",
    "rects1 = ax.bar(x - width/2, bp7days.systolic, width, label='systolic', facecolor='#00388F')\n",
    "rects2 = ax.bar(x + width/2, bp7days.diastolic, width, label='diastolic', facecolor='#8F5600')\n",
    "rects3 = ax.bar(x + width, bp7days.pulse, width, label='pulse', facecolor='#638F00')\n",
    "ax.axhline(y=120, color='#00388F')\n",
    "ax.axhline(y=80, color='#8F5600')\n",
    "# Add some text for labels, title and custom x-axis tick labels, etc.\n",
    "ax.set_ylabel('120/80 = perfect')\n",
    "ax.set_title('Blood press 7 days')\n",
    "ax.set_xticks(x)\n",
    "ax.set_xticklabels(bp7days.bpdate, rotation=90, fontsize=6)\n",
    "ax.legend()\n",
    "\n",
    "ax.bar_label(rects1, label_type='center', color='#EEEED0')\n",
    "ax.bar_label(rects2, label_type='center')\n",
    "ax.bar_label(rects3, label_type='center')\n",
    "plt.rc('xtick', labelsize=6)\n",
    "fig.set_figheight(10)\n",
    "mplcursors.cursor(rects3)\n",
    "mplcursors.cursor(rects2)\n",
    "plt.show()"
   ]
  },
  {
   "cell_type": "code",
   "execution_count": null,
   "metadata": {},
   "outputs": [],
   "source": [
    "bp7days.describe()"
   ]
  },
  {
   "cell_type": "markdown",
   "metadata": {},
   "source": [
    "## Weight line plot and table"
   ]
  },
  {
   "cell_type": "code",
   "execution_count": null,
   "metadata": {
    "tags": []
   },
   "outputs": [],
   "source": [
    "# editied in kate for new query for weight (fatty table)\n",
    "# never got cursor to work so added mplcursors lib\n",
    "# get data\n",
    "wtdta = \"select time, weight from fatty \"\n",
    "wtdata = pd.read_sql_query(wtdta, myconn, parse_dates = \"Time\")\n",
    "wtdata.rename(columns = {'time':'Time', 'weight':'Weight' }, inplace = True)\n",
    "   \n",
    "fig4, ax4, = plt.subplots(1, 2)\n",
    "plt.subplot(1,2,1)\n",
    "# start setting up figure\n",
    "mylegend = \"7 days stats \"\n",
    "mystats = wtdata.describe(include='float')\n",
    "plt.ylim(230,260)\n",
    "ax4[0].set_xlabel('Date')\n",
    "plt.title('weight plot')\n",
    "ax4[0].annotate([mystats], xy=(200, 380), xycoords='figure points')\n",
    "plt.setp(ax4[0].get_xticklabels(), rotation = 90, fontsize=6)\n",
    "# ax4.set_xticklabels(wtdata.bsdate, rotation=90, fontsize=6)\n",
    "plt.grid(b=True, which='both', axis='both', )\n",
    "fig4.set_figwidth(15)\n",
    "fig4.set_figheight(10)\n",
    "# thetable = pd.plotting.table(fig4, wtdata, colLabels= wtdata.columns )\n",
    "lines = ax4[0].plot(wtdata.Time , wtdata.Weight, marker='o', linestyle='dashed' )\n",
    "plt.subplot(1,2,2)\n",
    "plt.table(cellText=wtdata.values,colWidths = [0.25]*len(wtdata.columns),\n",
    "          rowLabels= None ,\n",
    "          colLabels=wtdata.columns,\n",
    "          cellLoc = 'center', rowLoc = 'center',\n",
    "          loc='center')\n",
    "mplcursors.cursor(lines) # or just mplcursors.cursor()\n",
    "plt.show()\n"
   ]
  },
  {
   "cell_type": "code",
   "execution_count": null,
   "metadata": {},
   "outputs": [],
   "source": []
  }
 ],
 "metadata": {
  "kernelspec": {
   "name": "python3",
   "display_name": "Python 3.8.10 64-bit"
  },
  "language_info": {
   "codemirror_mode": {
    "name": "ipython",
    "version": 3
   },
   "file_extension": ".py",
   "mimetype": "text/x-python",
   "name": "python",
   "nbconvert_exporter": "python",
   "pygments_lexer": "ipython3",
   "version": "3.8.10"
  },
  "interpreter": {
   "hash": "31f2aee4e71d21fbe5cf8b01ff0e069b9275f58929596ceb00d14d90e3e16cd6"
  }
 },
 "nbformat": 4,
 "nbformat_minor": 4
}