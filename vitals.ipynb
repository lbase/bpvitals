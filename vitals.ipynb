{
 "cells": [
  {
   "cell_type": "code",
   "execution_count": null,
   "source": [],
   "outputs": [],
   "metadata": {}
  },
  {
   "cell_type": "markdown",
   "source": [
    "# experiment with Qsettings\n",
    "https://www.mfitzp.com/forum/t/pyqt5-qsettings-how-to-use-qsettings/509/2\n"
   ],
   "metadata": {}
  },
  {
   "cell_type": "code",
   "execution_count": 4,
   "source": [
    "import sys\n",
    "import os\n",
    "from icecream import ic\n",
    "from PyQt5 import QtCore\n"
   ],
   "outputs": [],
   "metadata": {}
  },
  {
   "cell_type": "code",
   "execution_count": 5,
   "source": [
    "settings = QtCore.QSettings(\"bpvitals\", \"vitals\")\n",
    "print(settings.fileName())\n",
    "table_value = settings.setValue('vitals_tbname', 'vsigns')\n",
    "table_valve = settings.setValue('databasename', '/data/sqlite/vitals.db')\n"
   ],
   "outputs": [
    {
     "output_type": "stream",
     "name": "stdout",
     "text": [
      "/home/rfile/.config/bpvitals/vitals.conf\n"
     ]
    }
   ],
   "metadata": {}
  },
  {
   "cell_type": "code",
   "execution_count": 6,
   "source": [
    "print(table_value)"
   ],
   "outputs": [
    {
     "output_type": "stream",
     "name": "stdout",
     "text": [
      "None\n"
     ]
    }
   ],
   "metadata": {}
  },
  {
   "cell_type": "markdown",
   "source": [
    "# dataclasses\n"
   ],
   "metadata": {}
  },
  {
   "cell_type": "code",
   "execution_count": 20,
   "source": [
    "from dataclasses import dataclass, field, asdict\n",
    "@dataclass\n",
    "class foodnotes:\n",
    "    fdate: str\n",
    "    fnotes: str\n",
    "    sugarid: int\n",
    "    bpid: int\n",
    "\n",
    "myfnote = foodnotes(\"datestring\", \"notes\", 21, 21)  \n",
    "myfnote.fdate = \"date string\"\n",
    "myfnote.fnotes = \"notes string\"\n",
    "myfnote.sugarid = 12\n",
    "myfnote.bpid =13\n",
    "\n",
    "\n",
    "\n"
   ],
   "outputs": [],
   "metadata": {}
  },
  {
   "cell_type": "code",
   "execution_count": 22,
   "source": [
    "print(myfnote)"
   ],
   "outputs": [
    {
     "output_type": "stream",
     "name": "stdout",
     "text": [
      "foodnotes(fdate='date string', fnotes='notes string', sugarid=12, bpid=13)\n"
     ]
    }
   ],
   "metadata": {}
  },
  {
   "cell_type": "code",
   "execution_count": null,
   "source": [],
   "outputs": [],
   "metadata": {}
  }
 ],
 "metadata": {
  "orig_nbformat": 4,
  "language_info": {
   "name": "python",
   "version": "3.8.10",
   "mimetype": "text/x-python",
   "codemirror_mode": {
    "name": "ipython",
    "version": 3
   },
   "pygments_lexer": "ipython3",
   "nbconvert_exporter": "python",
   "file_extension": ".py"
  },
  "kernelspec": {
   "name": "python3",
   "display_name": "Python 3.8.10 64-bit"
  },
  "interpreter": {
   "hash": "31f2aee4e71d21fbe5cf8b01ff0e069b9275f58929596ceb00d14d90e3e16cd6"
  }
 },
 "nbformat": 4,
 "nbformat_minor": 2
}