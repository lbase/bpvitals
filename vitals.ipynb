{
 "cells": [
  {
   "cell_type": "code",
   "execution_count": null,
   "metadata": {},
   "outputs": [],
   "source": []
  },
  {
   "cell_type": "markdown",
   "metadata": {},
   "source": [
    "# experiment with Qsettings\n",
    "https://www.mfitzp.com/forum/t/pyqt5-qsettings-how-to-use-qsettings/509/2\n"
   ]
  },
  {
   "cell_type": "code",
   "execution_count": 4,
   "metadata": {},
   "outputs": [],
   "source": [
    "import sys\n",
    "import os\n",
    "from icecream import ic\n",
    "from PyQt5 import QtCore\n"
   ]
  },
  {
   "cell_type": "code",
   "execution_count": 5,
   "metadata": {},
   "outputs": [
    {
     "name": "stdout",
     "output_type": "stream",
     "text": [
      "/home/rfile/.config/bpvitals/vitals.conf\n"
     ]
    }
   ],
   "source": [
    "settings = QtCore.QSettings(\"bpvitals\", \"vitals\")\n",
    "print(settings.fileName())\n",
    "table_value = settings.setValue('vitals_tbname', 'vsigns')\n",
    "table_valve = settings.setValue('databasename', '/data/sqlite/vitals.db')\n"
   ]
  },
  {
   "cell_type": "code",
   "execution_count": 6,
   "metadata": {},
   "outputs": [
    {
     "name": "stdout",
     "output_type": "stream",
     "text": [
      "None\n"
     ]
    }
   ],
   "source": [
    "print(table_value)"
   ]
  },
  {
   "cell_type": "markdown",
   "metadata": {},
   "source": [
    "# dataclasses\n"
   ]
  },
  {
   "cell_type": "code",
   "execution_count": 20,
   "metadata": {},
   "outputs": [],
   "source": [
    "from dataclasses import dataclass, field, asdict\n",
    "@dataclass\n",
    "class foodnotes:\n",
    "    fdate: str\n",
    "    fnotes: str\n",
    "    sugarid: int\n",
    "    bpid: int\n",
    "\n",
    "myfnote = foodnotes(\"datestring\", \"notes\", 21, 21)  \n",
    "myfnote.fdate = \"date string\"\n",
    "myfnote.fnotes = \"notes string\"\n",
    "myfnote.sugarid = 12\n",
    "myfnote.bpid =13\n",
    "\n",
    "\n",
    "\n"
   ]
  },
  {
   "cell_type": "code",
   "execution_count": 22,
   "metadata": {},
   "outputs": [
    {
     "name": "stdout",
     "output_type": "stream",
     "text": [
      "foodnotes(fdate='date string', fnotes='notes string', sugarid=12, bpid=13)\n"
     ]
    }
   ],
   "source": [
    "print(myfnote)"
   ]
  },
  {
   "cell_type": "code",
   "execution_count": null,
   "metadata": {},
   "outputs": [],
   "source": []
  }
 ],
 "metadata": {
  "interpreter": {
   "hash": "31f2aee4e71d21fbe5cf8b01ff0e069b9275f58929596ceb00d14d90e3e16cd6"
  },
  "kernelspec": {
   "display_name": "Python 3 (ipykernel)",
   "language": "python",
   "name": "python3"
  },
  "language_info": {
   "codemirror_mode": {
    "name": "ipython",
    "version": 3
   },
   "file_extension": ".py",
   "mimetype": "text/x-python",
   "name": "python",
   "nbconvert_exporter": "python",
   "pygments_lexer": "ipython3",
   "version": "3.10.5"
  }
 },
 "nbformat": 4,
 "nbformat_minor": 4
}
