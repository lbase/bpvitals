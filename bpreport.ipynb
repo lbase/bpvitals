{
 "cells": [
  {
   "cell_type": "markdown",
   "id": "d04dc9af-e777-4499-a8f8-2d34e410a97c",
   "metadata": {},
   "source": [
    "This was file bpreport.py after some triming of imports that weren't needed. Will add other objects here to test.\n",
    "\n",
    "## Report O Matic"
   ]
  },
  {
   "cell_type": "code",
   "execution_count": 1,
   "id": "d5136a11-8cc8-4252-b39e-39d31d20858d",
   "metadata": {},
   "outputs": [
    {
     "name": "stdout",
     "output_type": "stream",
     "text": [
      "done\n"
     ]
    }
   ],
   "source": [
    "\n",
    "import pandas as pd\n",
    "import numpy as np\n",
    "from sqlalchemy import create_engine\n",
    "from sqlalchemy.orm import sessionmaker\n",
    "import matplotlib.pyplot as plt\n",
    "from matplotlib import cbook, dates\n",
    "from reportlab.pdfgen.canvas import Canvas\n",
    "from reportlab.platypus import SimpleDocTemplate, Table, Paragraph, TableStyle\n",
    "from reportlab.lib import colors\n",
    "from reportlab.lib.pagesizes import letter\n",
    "from reportlab.lib.styles import ParagraphStyle\n",
    "from reportlab.lib.styles import getSampleStyleSheet\n",
    "from sqlalchemy.orm import sessionmaker\n",
    "from sqlalchemy.sql import text\n",
    "import array\n",
    "eng = create_engine(\"sqlite:////data/sqlite/vitals.db\")\n",
    "myconn = eng.connect()\n",
    "\n",
    "bp8days = \"SELECT bpdate ,bpsys AS systolic, bpdia AS diastolic, bphr AS pulse , bpsugar as glucose, ketone, bpcomment as comment from  vsigns_bp where bpdate > (SELECT date('now','-30 day'))\"\n",
    "bpdf = pd.read_sql_query(bp8days, myconn, )\n",
    "bpdf.columns =[\"DATE\" , \"SYSTOLIC\", \"DIASTOLIC\", \"PULSE\", \"GLUCOSE\", \"KETONE\", \"COMMENT\"]\n",
    "bpsession = sessionmaker(bind=eng)\n",
    "bps1 = bpsession()\n",
    "exe = myconn.execute(text(bp8days)) #executing the query\n",
    "result = exe.fetchall() \n",
    "stylesheet=getSampleStyleSheet()\n",
    "normalStyle = stylesheet['Normal']\n",
    "data = bpdf.values.tolist()\n",
    "# Add the row heading to the list of lists\n",
    "data.insert(0, bpdf.columns.tolist())\n",
    "c1 = Canvas('bpreport.pdf', pagesize=letter)\n",
    "GRID_STYLE = TableStyle(\n",
    "            [('GRID', (0, 0), (-1, -1), 0.25, colors.green),\n",
    "            ('ALIGN', (1, 0), (-1, -1), 'RIGHT'),\n",
    "            \n",
    "            ('FONTSIZE', (0,0), (-1,0), 8)])\n",
    "t1 = Table(data)\n",
    "t1.setStyle(GRID_STYLE) \n",
    "t1.wrapOn(c1, 10, 400)\n",
    "t1.drawOn(c1, 10, 400)\n",
    "c1.save()\n",
    "print('done')\n",
    "\n",
    "\n"
   ]
  },
  {
   "cell_type": "code",
   "execution_count": null,
   "id": "48eb6fbd-09b0-4bf5-9cb4-28ef59aa0e42",
   "metadata": {},
   "outputs": [],
   "source": []
  }
 ],
 "metadata": {
  "kernelspec": {
   "display_name": "Python 3 (ipykernel)",
   "language": "python",
   "name": "python3"
  },
  "language_info": {
   "codemirror_mode": {
    "name": "ipython",
    "version": 3
   },
   "file_extension": ".py",
   "mimetype": "text/x-python",
   "name": "python",
   "nbconvert_exporter": "python",
   "pygments_lexer": "ipython3",
   "version": "3.12.2"
  }
 },
 "nbformat": 4,
 "nbformat_minor": 5
}
