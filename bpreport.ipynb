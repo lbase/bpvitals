{
 "cells": [
  {
   "cell_type": "markdown",
   "id": "d04dc9af-e777-4499-a8f8-2d34e410a97c",
   "metadata": {},
   "source": [
    "This was file bpreport.py after some triming of imports that weren't needed. Will add other objects here to test.\n",
    "virtualenv path can be used for shebang.\n",
    "\n",
    "/home/rfile/.local/share/virtualenvs/bpvitals-z9m9Wh3n/bin/python3\n",
    "\n",
    "## Report O Matic"
   ]
  },
  {
   "cell_type": "markdown",
   "id": "76121208-5b41-4cff-8917-7d26f7520510",
   "metadata": {},
   "source": [
    "Normal: - This is the default style for paragraphs. It uses a 10-point Times New Roman font with black text.\n",
    "\n",
    "Heading1: - This style uses a 16-point Arial font with bold text.\n",
    "\n",
    "Heading2: - This style uses a 14-point Arial font with bold text.\n",
    "\n",
    "Heading3: - This style uses a 12-point Arial font with bold text.\n",
    "\n",
    "Heading4: - This style uses a 11-point Arial font with bold text.\n",
    "\n",
    "Heading5: - This style uses a 10-point Arial font with bold text.\n",
    "\n",
    "Heading6: - This style uses a 9-point Arial font with bold text.\n",
    "\n",
    "BodyText: - This style uses a 10-point Times New Roman font with black text.\n",
    "\n",
    "Code: - This style uses a 10-point Courier New font with black text.\n",
    "\n",
    "Quote: - This style uses a 10-point Times New Roman font with italic text.\n",
    "\n",
    "Link: - This style uses a 10-point Times New Roman font with blue text.\n",
    "\n",
    "Table: - This style uses a 10-point Times New Roman font with black text.\n",
    "\n",
    "style = ParagraphStyle('ListStyle')\n",
    "\n",
    "\n",
    "\n",
    "\n"
   ]
  },
  {
   "cell_type": "markdown",
   "id": "759b9452-8152-453e-8d0a-baf67ff3351e",
   "metadata": {},
   "source": [
    "The wrapOn() method takes two arguments: the canvas object and the width of the paragraph.\n",
    "\n",
    "It returns the width and height of the wrapped paragraph. \n",
    "\n",
    "The drawOn() method takes three arguments: the canvas object, the x-coordinate, and the y-coordinate of the paragraph.\n",
    "\n",
    "You can use the wrapOn() and drawOn() methods \n",
    "\n",
    "to create paragraphs of any size and shape. You can also use them to create paragraphs that flow around other objects on the page.\n"
   ]
  },
  {
   "cell_type": "code",
   "execution_count": 100,
   "id": "d5136a11-8cc8-4252-b39e-39d31d20858d",
   "metadata": {},
   "outputs": [
    {
     "name": "stdout",
     "output_type": "stream",
     "text": [
      "done\n"
     ]
    }
   ],
   "source": [
    "\n",
    "import pandas as pd\n",
    "import numpy as np\n",
    "from sqlalchemy import create_engine\n",
    "from sqlalchemy.orm import sessionmaker\n",
    "import matplotlib.pyplot as plt\n",
    "from matplotlib import cbook, dates\n",
    "from reportlab.pdfgen.canvas import Canvas\n",
    "from reportlab.platypus import SimpleDocTemplate, Table, Paragraph, TableStyle\n",
    "from reportlab.lib import colors\n",
    "from reportlab.lib.pagesizes import letter\n",
    "from reportlab.lib.styles import ParagraphStyle\n",
    "from reportlab.lib.styles import getSampleStyleSheet\n",
    "from reportlab.lib.enums import TA_RIGHT, TA_CENTER, TA_LEFT\n",
    "from reportlab.lib.units import inch\n",
    "from sqlalchemy.orm import sessionmaker\n",
    "from sqlalchemy.sql import text\n",
    "import array\n",
    "eng = create_engine(\"sqlite:////data/sqlite/vitals.db\")\n",
    "myconn = eng.connect()\n",
    "\n",
    "bp8days = \"SELECT bpdate ,bpsys AS systolic, bpdia AS diastolic, bphr AS pulse , bpsugar as glucose, ketone, bpcomment as comment from  vsigns_bp where bpdate > (SELECT date('now','-30 day'))\"\n",
    "bpdf = pd.read_sql_query(bp8days, myconn, )\n",
    "bpdf.columns =[\"DATE\" , \"SYSTOLIC\", \"DIASTOLIC\", \"PULSE\", \"GLUCOSE\", \"KETONE\", \"COMMENT\"]\n",
    "bpsession = sessionmaker(bind=eng)\n",
    "bps1 = bpsession()\n",
    "exe = myconn.execute(text(bp8days)) #executing the query\n",
    "result = exe.fetchall() \n",
    "stylesheet=getSampleStyleSheet()\n",
    "normalStyle = stylesheet['Normal']\n",
    "h2 = ParagraphStyle('ListStyle')\n",
    "bt = ParagraphStyle('BodyText')\n",
    "\n",
    "style_general = ParagraphStyle(\n",
    "        name='left',\n",
    "        parent=stylesheet['Normal'],\n",
    "        fontSize=12,\n",
    "        fontName='Helvetica',\n",
    "        width='90',\n",
    "        alignment=TA_LEFT,\n",
    "        leading=12,\n",
    "        leftIndent=0\n",
    ")\n",
    "        \n",
    "stylesheet=getSampleStyleSheet()\n",
    "headingStyle = stylesheet['Heading3']\n",
    "h = Paragraph(\"Economic Components\", headingStyle)\n",
    "\n",
    "\n",
    "data = bpdf.values.tolist()\n",
    "# Add the row heading to the list of lists\n",
    "data.insert(0, bpdf.columns.tolist())\n",
    "c1 = Canvas('test.pdf', pagesize=letter)\n",
    "GRID_STYLE = TableStyle(\n",
    "            [('GRID', (0, 0), (-1, -1), 0.25, colors.green),\n",
    "            ('ALIGN', (1, 0), (-1, -1), 'RIGHT'),\n",
    "            ('FONTNAME', (0,0), (-1,0), 'Courier'),\n",
    "            ('FONTSIZE', (0,0), (-1,0), 6)],)\n",
    "tstx = 'Blood Pressure table'\n",
    "s1p = Paragraph(tstx,style_general)\n",
    "\n",
    "st2 = getSampleStyleSheet()\n",
    "# st3 = st2.listStyle('Heading2')\n",
    "\n",
    "t1 = Table(data)\n",
    "t1.setStyle(GRID_STYLE) \n",
    "t1.wrapOn(c1, 100, 400)\n",
    "t1.drawOn(c1, 10, 400)\n",
    "\n",
    "# s1p.wrapOn(c1,30,700)\n",
    "# s1p.drawOn(c1,50, 700)\n",
    "s1p.wrapOn(c1,300,700)\n",
    "s1p.drawOn(c1,50, 700)\n",
    "\n",
    "\n",
    "c1.save()\n",
    "\n",
    "print('done')\n",
    "\n",
    "\n"
   ]
  },
  {
   "cell_type": "code",
   "execution_count": null,
   "id": "48eb6fbd-09b0-4bf5-9cb4-28ef59aa0e42",
   "metadata": {},
   "outputs": [],
   "source": [
    "h"
   ]
  },
  {
   "cell_type": "code",
   "execution_count": null,
   "id": "58f0c4d6-e624-428d-b8a0-169e9e1b26bf",
   "metadata": {},
   "outputs": [],
   "source": []
  }
 ],
 "metadata": {
  "kernelspec": {
   "display_name": "Python 3 (ipykernel)",
   "language": "python",
   "name": "python3"
  },
  "language_info": {
   "codemirror_mode": {
    "name": "ipython",
    "version": 3
   },
   "file_extension": ".py",
   "mimetype": "text/x-python",
   "name": "python",
   "nbconvert_exporter": "python",
   "pygments_lexer": "ipython3",
   "version": "3.12.2"
  }
 },
 "nbformat": 4,
 "nbformat_minor": 5
}
