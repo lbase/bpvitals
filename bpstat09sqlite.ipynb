{
 "cells": [
  {
   "cell_type": "markdown",
   "metadata": {},
   "source": [
    "# Working bits from bpstats09pg\n"
   ]
  },
  {
   "cell_type": "markdown",
   "metadata": {
    "tags": []
   },
   "source": [
    "## moving to sqlite after trouble with queries and sequences in postgresql\n",
    "\n",
    "https://docs.sqlalchemy.org/en/14/dialects/sqlite.html#module-sqlalchemy.dialects.sqlite.pysqlite\n",
    "\n",
    "https://docs.python.org/3/library/datetime.html#strftime-and-strptime-behavior\n",
    "\n",
    "use %%black to format cell\n",
    "\n",
    "running from fedora and making change to see if push works with flatboy\n",
    "can't seem to get gitlab to show bubba as an author\n"
   ]
  },
  {
   "cell_type": "code",
   "execution_count": 1,
   "metadata": {
    "tags": []
   },
   "outputs": [],
   "source": [
    "import dateutil\n",
    "import pandas as pd\n",
    "import numpy as np\n",
    "from sqlalchemy import create_engine\n",
    "from sqlalchemy import select\n",
    "from sqlalchemy.dialects.sqlite import DATETIME as DT\n",
    "import matplotlib.pyplot as plt\n",
    "# import seaborn as sb\n",
    "from matplotlib import cbook, dates\n",
    "from icecream import ic\n",
    "#from matplotlib.ticker import Formatter\n",
    "import mplcursors\n",
    "# %matplotlib widget\n",
    "# this gives seperate window qt widget for figures\n",
    "%matplotlib qt5\n",
    "# %matplotlib inline\n",
    "# %load_ext blackcellmagic\n",
    "eng = create_engine(\"sqlite:////data/sqlite/vitals.db\")\n",
    "myconn = eng.connect()"
   ]
  },
  {
   "cell_type": "markdown",
   "metadata": {
    "tags": []
   },
   "source": [
    "## Blood sugar line plot"
   ]
  },
  {
   "cell_type": "code",
   "execution_count": null,
   "metadata": {},
   "outputs": [],
   "source": [
    "myconn"
   ]
  },
  {
   "cell_type": "code",
   "execution_count": null,
   "metadata": {},
   "outputs": [],
   "source": []
  },
  {
   "cell_type": "code",
   "execution_count": null,
   "metadata": {
    "tags": []
   },
   "outputs": [],
   "source": [
    "#  this one working and showing the variable mystats n\n",
    "# never got cursor to work so added mplcursors lib\n",
    "# get data\n",
    "sugeightdays = \"SELECT bsdate,bsugar FROM qtsugar WHERE bsdate > (SELECT date('now','-8 day'))\"\n",
    "sugar8days = pd.read_sql_query(sugeightdays, myconn, parse_dates = \"bsdate\")\n",
    "# start setting up figure\n",
    "mylegend = \"7 days stats \"\n",
    "mystats = sugar8days.describe(include='int')\n",
    "sugar8days=sugar8days.sort_values(\"bsdate\")\n",
    "fig3, ax3 = plt.subplots()\n",
    "plt.ylim(60,150)\n",
    "ax3.set_xlabel('Date')\n",
    "plt.title('blood sugar last 8 days')\n",
    "ax3.annotate([mystats], xy=(200, 380), xycoords='figure points')\n",
    "plt.setp(ax3.get_xticklabels(), rotation = 90, fontsize=6)\n",
    "#ax3.set_xticklabels(sugar8days.bsdate, rotation=90, fontsize=6)\n",
    "plt.grid(b=True, which='both', axis='both', )\n",
    "fig3.set_figwidth(10)\n",
    "fig3.set_figheight(10)\n",
    "lines = ax3.plot(sugar8days.bsdate , sugar8days.bsugar, marker='o', linestyle='dashed' )\n",
    "mplcursors.cursor(lines) # or just mplcursors.cursor()\n",
    "\n"
   ]
  },
  {
   "cell_type": "code",
   "execution_count": null,
   "metadata": {
    "tags": []
   },
   "outputs": [],
   "source": [
    "sugar8days.describe()"
   ]
  },
  {
   "cell_type": "code",
   "execution_count": null,
   "metadata": {},
   "outputs": [],
   "source": [
    "sugar8days.pdf"
   ]
  },
  {
   "cell_type": "markdown",
   "metadata": {},
   "source": [
    "## Blood sugar line plot and table"
   ]
  },
  {
   "cell_type": "code",
   "execution_count": null,
   "metadata": {
    "tags": []
   },
   "outputs": [],
   "source": [
    "# this one now working and showing 2 subplots Saturday, June 5, 2021 10:57:39 AM EDT\n",
    "# never got cursor to work so added mplcursors lib\n",
    "# get data\n",
    "sugeightdays = (\n",
    "    \"SELECT bsdate,bsugar FROM qtsugar WHERE bsdate > (SELECT date('now','-8 day'))\"  # pgsql\n",
    ")\n",
    "sugar8days = pd.read_sql_query(sugeightdays, myconn, parse_dates=\"bsdate\")\n",
    "fig3, ax3, = plt.subplots(1, 2)\n",
    "plt.subplot(1, 2, 1)\n",
    "# start setting up figure\n",
    "mylegend = \"7 days stats \"\n",
    "mystats = sugar8days.describe()\n",
    "plt.ylim(60, 150)\n",
    "ax3[0].set_xlabel(\"Date\")\n",
    "plt.title(\"blood sugar last 8 days\")\n",
    "ax3[0].annotate([mystats], xy=(200, 380), xycoords=\"figure points\")\n",
    "plt.setp(ax3[0].get_xticklabels(), rotation=90, fontsize=6)\n",
    "# ax3.set_xticklabels(sugar8days.bsdate, rotation=90, fontsize=6)\n",
    "plt.grid(\n",
    "    b=True, which=\"both\", axis=\"both\",\n",
    ")\n",
    "fig3.set_figwidth(15)\n",
    "fig3.set_figheight(10)\n",
    "# thetable = pd.plotting.table(fig3, sugar8days, colLabels= sugar8days.columns )\n",
    "lines = ax3[0].plot(\n",
    "    sugar8days.bsdate, sugar8days.bsugar, marker=\"o\", linestyle=\"dashed\"\n",
    ")\n",
    "plt.subplot(1, 2, 2)\n",
    "\n",
    "plt.table(\n",
    "    cellText=sugar8days.values,\n",
    "    colWidths=[0.25] * len(sugar8days.columns),\n",
    "    rowLabels=None,\n",
    "    colLabels=sugar8days.columns,\n",
    "    cellLoc=\"center\",\n",
    "    rowLoc=\"center\",\n",
    "    loc=\"center\",\n",
    ")\n",
    "mplcursors.cursor(lines)  # or just mplcursors.cursor()\n",
    "plt.show()"
   ]
  },
  {
   "cell_type": "markdown",
   "metadata": {},
   "source": [
    "## Blood pressure"
   ]
  },
  {
   "cell_type": "code",
   "execution_count": null,
   "metadata": {
    "slideshow": {
     "slide_type": "slide"
    },
    "tags": []
   },
   "outputs": [],
   "source": [
    "bpsevendays = \"SELECT bpdate ,bpsys AS systolic, bpdia AS diastolic, bphr AS pulse from  vsigns_bp where bpdate > (SELECT date('now','-8 day'))\"\n",
    "bp7days = pd.read_sql_query(bpsevendays, myconn, parse_dates = \"bpdate\")\n",
    "\n",
    "x = np.arange(len(bp7days))  # the label locations\n",
    "width = 0.35  # the width of the bars\n",
    "\n",
    "# color picker gpick\n",
    "fig , ax = plt.subplots()\n",
    "rects1 = ax.bar(x - width/2, bp7days.systolic, width, label='systolic', facecolor='#00388F')\n",
    "rects2 = ax.bar(x + width/2, bp7days.diastolic, width, label='diastolic', facecolor='#8F5600')\n",
    "rects3 = ax.bar(x + width, bp7days.pulse, width, label='pulse', facecolor='#638F00')\n",
    "ax.axhline(y=120, color='#00388F')\n",
    "ax.axhline(y=80, color='#8F5600')\n",
    "# Add some text for labels, title and custom x-axis tick labels, etc.\n",
    "ax.set_ylabel('120/80 = perfect')\n",
    "ax.set_title('Blood press 7 days')\n",
    "ax.set_xticks(x)\n",
    "ax.set_xticklabels(bp7days.bpdate, rotation=90, fontsize=6)\n",
    "ax.legend()\n",
    "\n",
    "ax.bar_label(rects1, label_type='center', color='#EEEED0')\n",
    "ax.bar_label(rects2, label_type='center')\n",
    "ax.bar_label(rects3, label_type='center')\n",
    "plt.rc('xtick', labelsize=6)\n",
    "fig.set_figheight(10)\n",
    "mplcursors.cursor(rects3)\n",
    "mplcursors.cursor(rects2)\n",
    "plt.show()"
   ]
  },
  {
   "cell_type": "code",
   "execution_count": null,
   "metadata": {},
   "outputs": [],
   "source": [
    "bp7days.describe()"
   ]
  },
  {
   "cell_type": "markdown",
   "metadata": {},
   "source": [
    "## Weight line plot and table"
   ]
  },
  {
   "cell_type": "code",
   "execution_count": 28,
   "metadata": {
    "scrolled": true,
    "tags": []
   },
   "outputs": [],
   "source": [
    "# editied in kate for new query for weight (fatty table)\n",
    "# never got cursor to work so added mplcursors lib\n",
    "# get data\n",
    "# wtdta = \"select ftime, weight from qfatty where ftime > (SELECT date('now','-30 day'))\" # original 14 days\n",
    "wtdta = \"select ftime, weight from (select ftime, weight from fatty order by ftime desc limit 30) order by ftime asc\"\n",
    "wtdata = pd.read_sql_query(wtdta, myconn, parse_dates = \"Time\")\n",
    "wtdata.rename(columns = {'ftime':'Time', 'weight':'Weight' }, inplace = True)\n",
    "   \n",
    "fig4, ax4, = plt.subplots(1, 2)\n",
    "plt.subplot(1,2,1)\n",
    "# start setting up figure\n",
    "mylegend = \"7 days stats \"\n",
    "mystats = wtdata.describe(include='float')\n",
    "plt.ylim(230,260)\n",
    "ax4[0].set_xlabel('Date')\n",
    "plt.title('weight plot')\n",
    "ax4[0].annotate([mystats], xy=(200, 380), xycoords='figure points')\n",
    "plt.setp(ax4[0].get_xticklabels(), rotation = 90, fontsize=6)\n",
    "# ax4.set_xticklabels(wtdata.bsdate, rotation=90, fontsize=6)\n",
    "plt.grid(visible=True, which='both', axis='both', )\n",
    "fig4.set_figwidth(15)\n",
    "fig4.set_figheight(10)\n",
    "# thetable = pd.plotting.table(fig4, wtdata, colLabels= wtdata.columns )\n",
    "lines = ax4[0].plot(wtdata.Time , wtdata.Weight, marker='o', linestyle='dashed' )\n",
    "plt.subplot(1,2,2)\n",
    "plt.table(cellText=wtdata.values,colWidths = [0.25]*len(wtdata.columns),\n",
    "          rowLabels= None ,\n",
    "          colLabels=wtdata.columns,\n",
    "          cellLoc = 'center', rowLoc = 'center',\n",
    "          loc='center')\n",
    "mplcursors.cursor(lines) # or just mplcursors.cursor()\n",
    "plt.show()\n"
   ]
  },
  {
   "cell_type": "markdown",
   "metadata": {},
   "source": [
    "# Edit for lineplot only"
   ]
  },
  {
   "cell_type": "code",
   "execution_count": 73,
   "metadata": {
    "scrolled": true,
    "tags": []
   },
   "outputs": [],
   "source": [
    "# jupyter to get just line graph of weight (fatty table)\n",
    "# never got cursor to work so added mplcursors lib\n",
    "# get data\n",
    "# wtdta = \"select ftime, weight from qfatty where ftime > (SELECT date('now','-30 day'))\" # original 14 days\n",
    "wtdta = \"select ftime, weight from (select ftime, weight from fatty order by ftime desc limit 30) order by ftime asc\"\n",
    "wtdata = pd.read_sql_query(wtdta, myconn, parse_dates = \"ftime\" )\n",
    "# wtdata['ftime'] = pd.to_datetime(wtdata['ftime'])\n",
    "wtdata['ftime'] = pd.to_datetime(wtdata.ftime)\n",
    "wtdata['ftime'] = wtdata['ftime'].dt.strftime('%Y-%m-%d %H:%M')\n",
    "# wtdata['ftime'] = wtdata['ftime'].dt.floor('Min')\n",
    "wtdata.rename(columns = {'ftime':'Time', 'weight':'Weight' }, inplace = True)\n",
    "\n",
    "formatter = dates.DateFormatter('%Y-%m-%d %H:%M')\n",
    "\n",
    "fig4, ax4, = plt.subplots()\n",
    "#plt.subplot()\n",
    "# start setting up figure\n",
    "mylegend = \"Weight 30 entries \"\n",
    "mystats = wtdata.describe(include='float')\n",
    "plt.ylim(230,260)\n",
    "ax4.set_xlabel('Date')\n",
    "plt.title('weight plot')\n",
    "ax4.annotate([mystats], xy=(200, 380), xycoords='figure points')\n",
    "\n",
    "\n",
    "plt.grid(visible=True, which='both', axis='both', )\n",
    "fig4.set_figwidth(25)\n",
    "fig4.set_figheight(10)\n",
    "# thetable = pd.plotting.table(fig4, wtdata, colLabels= wtdata.columns )\n",
    "lines = ax4.plot(wtdata.Time , wtdata.Weight, marker='o', linestyle='dashed' )\n",
    "# df['date_string'] = df['DateTime'].dt.strftime('%Y-%m-%d %H:%M:%S') \n",
    "# df['start_date_time'] = df['start_date_time'].dt.floor('T')\n",
    "#df['DateTime'] = pd.to_datetime(df['DateTime'], format='%Y-%m-%d %H:%M:%S')\n",
    "#df.plot(x='DateTime', y='Value')\n",
    "#formatter = dates.DateFormatter('%Y-%m-%d %H:%M') \n",
    "#plt.setp(ax4.xaxis.set_major_formatter(formatter))\n",
    "plt.setp(ax4.get_xticklabels(), rotation = 60, fontsize=6)\n",
    "mplcursors.cursor(lines) # or just mplcursors.cursor()\n",
    "plt.ion()\n",
    "plt.show()\n"
   ]
  },
  {
   "cell_type": "code",
   "execution_count": 66,
   "metadata": {},
   "outputs": [
    {
     "data": {
      "text/html": [
       "<div>\n",
       "<style scoped>\n",
       "    .dataframe tbody tr th:only-of-type {\n",
       "        vertical-align: middle;\n",
       "    }\n",
       "\n",
       "    .dataframe tbody tr th {\n",
       "        vertical-align: top;\n",
       "    }\n",
       "\n",
       "    .dataframe thead th {\n",
       "        text-align: right;\n",
       "    }\n",
       "</style>\n",
       "<table border=\"1\" class=\"dataframe\">\n",
       "  <thead>\n",
       "    <tr style=\"text-align: right;\">\n",
       "      <th></th>\n",
       "      <th>Time</th>\n",
       "      <th>Weight</th>\n",
       "    </tr>\n",
       "  </thead>\n",
       "  <tbody>\n",
       "    <tr>\n",
       "      <th>0</th>\n",
       "      <td>2021-11-09 08:12:00</td>\n",
       "      <td>234.0</td>\n",
       "    </tr>\n",
       "    <tr>\n",
       "      <th>1</th>\n",
       "      <td>2021-11-11 08:03:00</td>\n",
       "      <td>234.4</td>\n",
       "    </tr>\n",
       "    <tr>\n",
       "      <th>2</th>\n",
       "      <td>2021-11-13 07:46:00</td>\n",
       "      <td>233.2</td>\n",
       "    </tr>\n",
       "    <tr>\n",
       "      <th>3</th>\n",
       "      <td>2021-11-20 07:39:00</td>\n",
       "      <td>234.4</td>\n",
       "    </tr>\n",
       "    <tr>\n",
       "      <th>4</th>\n",
       "      <td>2021-11-26 09:05:00</td>\n",
       "      <td>241.8</td>\n",
       "    </tr>\n",
       "    <tr>\n",
       "      <th>5</th>\n",
       "      <td>2021-11-30 08:35:00</td>\n",
       "      <td>235.6</td>\n",
       "    </tr>\n",
       "    <tr>\n",
       "      <th>6</th>\n",
       "      <td>2021-12-02 08:28:00</td>\n",
       "      <td>234.0</td>\n",
       "    </tr>\n",
       "    <tr>\n",
       "      <th>7</th>\n",
       "      <td>2021-12-11 06:41:00</td>\n",
       "      <td>230.8</td>\n",
       "    </tr>\n",
       "    <tr>\n",
       "      <th>8</th>\n",
       "      <td>2021-12-14 07:09:00</td>\n",
       "      <td>233.2</td>\n",
       "    </tr>\n",
       "    <tr>\n",
       "      <th>9</th>\n",
       "      <td>2021-12-15 08:28:00</td>\n",
       "      <td>230.8</td>\n",
       "    </tr>\n",
       "    <tr>\n",
       "      <th>10</th>\n",
       "      <td>2021-12-18 07:44:00</td>\n",
       "      <td>235.6</td>\n",
       "    </tr>\n",
       "    <tr>\n",
       "      <th>11</th>\n",
       "      <td>2021-12-28 07:10:00</td>\n",
       "      <td>238.4</td>\n",
       "    </tr>\n",
       "    <tr>\n",
       "      <th>12</th>\n",
       "      <td>2021-12-30 05:56:00</td>\n",
       "      <td>238.8</td>\n",
       "    </tr>\n",
       "    <tr>\n",
       "      <th>13</th>\n",
       "      <td>2022-01-06 05:29:00</td>\n",
       "      <td>238.4</td>\n",
       "    </tr>\n",
       "    <tr>\n",
       "      <th>14</th>\n",
       "      <td>2022-01-13 08:09:00</td>\n",
       "      <td>236.8</td>\n",
       "    </tr>\n",
       "    <tr>\n",
       "      <th>15</th>\n",
       "      <td>2022-01-15 06:32:00</td>\n",
       "      <td>236.6</td>\n",
       "    </tr>\n",
       "    <tr>\n",
       "      <th>16</th>\n",
       "      <td>2022-01-22 06:37:00</td>\n",
       "      <td>237.4</td>\n",
       "    </tr>\n",
       "    <tr>\n",
       "      <th>17</th>\n",
       "      <td>2022-01-25 09:12:00</td>\n",
       "      <td>238.6</td>\n",
       "    </tr>\n",
       "    <tr>\n",
       "      <th>18</th>\n",
       "      <td>2022-02-03 06:33:00</td>\n",
       "      <td>236.6</td>\n",
       "    </tr>\n",
       "    <tr>\n",
       "      <th>19</th>\n",
       "      <td>2022-02-22 06:10:00</td>\n",
       "      <td>245.2</td>\n",
       "    </tr>\n",
       "    <tr>\n",
       "      <th>20</th>\n",
       "      <td>2022-03-10 07:42:00</td>\n",
       "      <td>252.8</td>\n",
       "    </tr>\n",
       "    <tr>\n",
       "      <th>21</th>\n",
       "      <td>2022-04-09 07:28:00</td>\n",
       "      <td>261.0</td>\n",
       "    </tr>\n",
       "    <tr>\n",
       "      <th>22</th>\n",
       "      <td>2022-04-30 07:59:00</td>\n",
       "      <td>267.6</td>\n",
       "    </tr>\n",
       "    <tr>\n",
       "      <th>23</th>\n",
       "      <td>2022-05-16 19:20:00</td>\n",
       "      <td>268.8</td>\n",
       "    </tr>\n",
       "    <tr>\n",
       "      <th>24</th>\n",
       "      <td>2022-06-03 08:17:00</td>\n",
       "      <td>265.4</td>\n",
       "    </tr>\n",
       "    <tr>\n",
       "      <th>25</th>\n",
       "      <td>2022-06-13 07:34:00</td>\n",
       "      <td>271.0</td>\n",
       "    </tr>\n",
       "    <tr>\n",
       "      <th>26</th>\n",
       "      <td>2022-06-29 07:33:00</td>\n",
       "      <td>275.4</td>\n",
       "    </tr>\n",
       "    <tr>\n",
       "      <th>27</th>\n",
       "      <td>2022-07-11 07:11:00</td>\n",
       "      <td>278.8</td>\n",
       "    </tr>\n",
       "    <tr>\n",
       "      <th>28</th>\n",
       "      <td>2022-07-16 08:20:00</td>\n",
       "      <td>279.2</td>\n",
       "    </tr>\n",
       "    <tr>\n",
       "      <th>29</th>\n",
       "      <td>2022-07-31 08:18:00</td>\n",
       "      <td>277.8</td>\n",
       "    </tr>\n",
       "  </tbody>\n",
       "</table>\n",
       "</div>"
      ],
      "text/plain": [
       "                  Time  Weight\n",
       "0  2021-11-09 08:12:00   234.0\n",
       "1  2021-11-11 08:03:00   234.4\n",
       "2  2021-11-13 07:46:00   233.2\n",
       "3  2021-11-20 07:39:00   234.4\n",
       "4  2021-11-26 09:05:00   241.8\n",
       "5  2021-11-30 08:35:00   235.6\n",
       "6  2021-12-02 08:28:00   234.0\n",
       "7  2021-12-11 06:41:00   230.8\n",
       "8  2021-12-14 07:09:00   233.2\n",
       "9  2021-12-15 08:28:00   230.8\n",
       "10 2021-12-18 07:44:00   235.6\n",
       "11 2021-12-28 07:10:00   238.4\n",
       "12 2021-12-30 05:56:00   238.8\n",
       "13 2022-01-06 05:29:00   238.4\n",
       "14 2022-01-13 08:09:00   236.8\n",
       "15 2022-01-15 06:32:00   236.6\n",
       "16 2022-01-22 06:37:00   237.4\n",
       "17 2022-01-25 09:12:00   238.6\n",
       "18 2022-02-03 06:33:00   236.6\n",
       "19 2022-02-22 06:10:00   245.2\n",
       "20 2022-03-10 07:42:00   252.8\n",
       "21 2022-04-09 07:28:00   261.0\n",
       "22 2022-04-30 07:59:00   267.6\n",
       "23 2022-05-16 19:20:00   268.8\n",
       "24 2022-06-03 08:17:00   265.4\n",
       "25 2022-06-13 07:34:00   271.0\n",
       "26 2022-06-29 07:33:00   275.4\n",
       "27 2022-07-11 07:11:00   278.8\n",
       "28 2022-07-16 08:20:00   279.2\n",
       "29 2022-07-31 08:18:00   277.8"
      ]
     },
     "execution_count": 66,
     "metadata": {},
     "output_type": "execute_result"
    }
   ],
   "source": [
    "wtdata"
   ]
  },
  {
   "cell_type": "code",
   "execution_count": null,
   "metadata": {},
   "outputs": [],
   "source": [
    "wtdta = \"select ftime, weight from qfatty \"\n",
    "wtdata = pd.read_sql_query(wtdta, myconn, parse_dates = \"ftime\")"
   ]
  },
  {
   "cell_type": "code",
   "execution_count": null,
   "metadata": {
    "tags": []
   },
   "outputs": [],
   "source": [
    "# 2021-07-11 09:06:00\n",
    "from datetime import datetime\n",
    "import dateutil\n",
    "dt = \"7/14/2021 4:34 PM\"\n",
    "# dt = datetime.now()\n",
    "# dt = DT(dt, \"localtime\" )\n",
    "dt = datetime.strptime(dt, '%m/%d/%Y %I:M %p')"
   ]
  },
  {
   "cell_type": "code",
   "execution_count": null,
   "metadata": {},
   "outputs": [],
   "source": [
    "datetime_object = datetime.strptime('Jun 1 2005  1:33PM', '%b %d %Y %I:%M%p')\n",
    "datetime_object"
   ]
  },
  {
   "cell_type": "code",
   "execution_count": null,
   "metadata": {
    "tags": []
   },
   "outputs": [],
   "source": [
    "# d='10:23:34 PM'\n",
    "#d = '7/14/2021 4:34 PM'\n",
    "#pd.to_datetime(d,'%m/%d/%Y %H:%M')\n",
    "wtdata.describe( )\n"
   ]
  },
  {
   "cell_type": "code",
   "execution_count": null,
   "metadata": {},
   "outputs": [],
   "source": [
    "wtdata.ftime.max() - wtdata.ftime.min()"
   ]
  },
  {
   "cell_type": "code",
   "execution_count": null,
   "metadata": {},
   "outputs": [],
   "source": [
    "wtdata.weight.max() - wtdata.weight.min()"
   ]
  },
  {
   "cell_type": "code",
   "execution_count": null,
   "metadata": {},
   "outputs": [],
   "source": [
    "19/96"
   ]
  },
  {
   "cell_type": "code",
   "execution_count": null,
   "metadata": {},
   "outputs": [],
   "source": [
    "wtdata = pd.read_csv(\"/home/rfile/motog3/Bob - Export Data 7-11-2021 ~ 7-17-2021.csv\")\n",
    "wtdata.rename(columns={\"Time\": \"ftime\"}, inplace=True)\n",
    "# wtdata.ftime = pd.to_datetime(wtdata.ftime, format=\"%m/%d/%YT%H:%M\")\n",
    "wtdata.ftime = pd.to_datetime(wtdata.ftime)\n",
    "\n"
   ]
  },
  {
   "cell_type": "code",
   "execution_count": null,
   "metadata": {},
   "outputs": [],
   "source": [
    "wtdata.ftime"
   ]
  },
  {
   "cell_type": "code",
   "execution_count": null,
   "metadata": {},
   "outputs": [],
   "source": [
    "for t in wtdata.ftime:\n",
    "    t = datetime.strptime(t,\"%m/%d/%Y %I:%M %p\")\n",
    "    wtdata.replace(wtdata.ftime, t)"
   ]
  },
  {
   "cell_type": "code",
   "execution_count": null,
   "metadata": {},
   "outputs": [],
   "source": [
    "wtdata.loc[0]"
   ]
  },
  {
   "cell_type": "code",
   "execution_count": null,
   "metadata": {},
   "outputs": [],
   "source": [
    "wtdata.ftime"
   ]
  },
  {
   "cell_type": "markdown",
   "metadata": {},
   "source": [
    "## Barplots averages for sugar"
   ]
  },
  {
   "cell_type": "code",
   "execution_count": null,
   "metadata": {},
   "outputs": [],
   "source": [
    "sugnext8 = \"SELECT bsdate,bsugar FROM qtsugar WHERE bsdate < (SELECT date('now','-8 day')) and bsdate > (SELECT date('now' , '-16 day'))\"\n",
    "sugar8next = pd.read_sql_query(sugnext8, myconn, parse_dates = \"bsdate\")"
   ]
  },
  {
   "cell_type": "code",
   "execution_count": null,
   "metadata": {
    "tags": []
   },
   "outputs": [],
   "source": [
    "sugeightdays = \"SELECT bsdate,bsugar FROM qtsugar WHERE bsdate > (SELECT date('now','-8 day'))\"\n",
    "sugar8days = pd.read_sql_query(sugeightdays, myconn, parse_dates = \"bsdate\")"
   ]
  },
  {
   "cell_type": "code",
   "execution_count": null,
   "metadata": {},
   "outputs": [],
   "source": [
    "sugtoday = \"SELECT bsdate,bsugar FROM qtsugar WHERE bsdate = (SELECT date('now', '-1 day'))\"\n",
    "sugartoday = pd.read_sql_query(sugeightdays, myconn, parse_dates = \"bsdate\")"
   ]
  },
  {
   "cell_type": "code",
   "execution_count": null,
   "metadata": {
    "jupyter": {
     "source_hidden": true
    },
    "tags": []
   },
   "outputs": [],
   "source": [
    "\n",
    "\n",
    "\n",
    "sugonedays = \"SELECT bsdate,bsugar FROM qtsugar WHERE bsdate >= (SELECT date('now', '-24 hours'))\" \n",
    "sugar1days = pd.read_sql_query(sugonedays, myconn, parse_dates = \"bsdate\")\n",
    "\n",
    "\n",
    "\n",
    "\n",
    "\n",
    "# Draw a vertical bar chart\n",
    "\n",
    "plot = sugar1days.plot.bar(x=\"bsdate\", y=\"bsugar\", title=\"sugar 24 hours\")\n",
    "\n",
    "plt.tight_layout()\n",
    "plt.show()"
   ]
  },
  {
   "cell_type": "code",
   "execution_count": null,
   "metadata": {
    "tags": []
   },
   "outputs": [],
   "source": [
    "sugar1days"
   ]
  },
  {
   "cell_type": "code",
   "execution_count": null,
   "metadata": {},
   "outputs": [],
   "source": []
  },
  {
   "cell_type": "code",
   "execution_count": null,
   "metadata": {},
   "outputs": [],
   "source": []
  }
 ],
 "metadata": {
  "interpreter": {
   "hash": "31f2aee4e71d21fbe5cf8b01ff0e069b9275f58929596ceb00d14d90e3e16cd6"
  },
  "kernelspec": {
   "display_name": "Python 3 (ipykernel)",
   "language": "python",
   "name": "python3"
  },
  "language_info": {
   "codemirror_mode": {
    "name": "ipython",
    "version": 3
   },
   "file_extension": ".py",
   "mimetype": "text/x-python",
   "name": "python",
   "nbconvert_exporter": "python",
   "pygments_lexer": "ipython3",
   "version": "3.10.5"
  }
 },
 "nbformat": 4,
 "nbformat_minor": 4
}
