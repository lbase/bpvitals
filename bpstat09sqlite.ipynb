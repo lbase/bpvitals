{
 "cells": [
  {
   "cell_type": "markdown",
   "source": [
    "# Working bits from bpstats09pg\n"
   ],
   "metadata": {}
  },
  {
   "cell_type": "markdown",
   "source": [
    "## moving to sqlite after trouble with queries and sequences in postgresql\n",
    "\n",
    "https://docs.sqlalchemy.org/en/14/dialects/sqlite.html#module-sqlalchemy.dialects.sqlite.pysqlite\n",
    "\n",
    "https://docs.python.org/3/library/datetime.html#strftime-and-strptime-behavior\n",
    "\n",
    "use %%black to format cell\n",
    "\n",
    "running from fedora and making change to see if push works with flatboy"
   ],
   "metadata": {
    "tags": []
   }
  },
  {
   "cell_type": "code",
   "execution_count": 1,
   "source": [
    "import dateutil\n",
    "import pandas as pd\n",
    "import numpy as np\n",
    "from sqlalchemy import create_engine\n",
    "from sqlalchemy import select\n",
    "from sqlalchemy.dialects.sqlite import DATETIME as DT\n",
    "import matplotlib.pyplot as plt\n",
    "# import seaborn as sb\n",
    "from matplotlib import cbook, dates\n",
    "from icecream import ic\n",
    "#from matplotlib.ticker import Formatter\n",
    "import mplcursors\n",
    "# %matplotlib widget\n",
    "# this gives seperate window qt widget for figures\n",
    "%matplotlib qt5 \n",
    "# %load_ext blackcellmagic\n",
    "eng = create_engine(\"sqlite:////data/sqlite/vitals.db\")\n",
    "myconn = eng.connect()"
   ],
   "outputs": [],
   "metadata": {
    "tags": []
   }
  },
  {
   "cell_type": "markdown",
   "source": [
    "## Blood sugar line plot"
   ],
   "metadata": {
    "tags": []
   }
  },
  {
   "cell_type": "code",
   "execution_count": null,
   "source": [
    "myconn"
   ],
   "outputs": [],
   "metadata": {}
  },
  {
   "cell_type": "code",
   "execution_count": null,
   "source": [],
   "outputs": [],
   "metadata": {}
  },
  {
   "cell_type": "code",
   "execution_count": 2,
   "source": [
    "#  this one working and showing the variable mystats n\n",
    "# never got cursor to work so added mplcursors lib\n",
    "# get data\n",
    "sugeightdays = \"SELECT bsdate,bsugar FROM qtsugar WHERE bsdate > (SELECT date('now','-8 day'))\"\n",
    "sugar8days = pd.read_sql_query(sugeightdays, myconn, parse_dates = \"bsdate\")\n",
    "# start setting up figure\n",
    "mylegend = \"7 days stats \"\n",
    "mystats = sugar8days.describe(include='int')\n",
    "sugar8days=sugar8days.sort_values(\"bsdate\")\n",
    "fig3, ax3 = plt.subplots()\n",
    "plt.ylim(60,150)\n",
    "ax3.set_xlabel('Date')\n",
    "plt.title('blood sugar last 8 days')\n",
    "ax3.annotate([mystats], xy=(200, 380), xycoords='figure points')\n",
    "plt.setp(ax3.get_xticklabels(), rotation = 90, fontsize=6)\n",
    "#ax3.set_xticklabels(sugar8days.bsdate, rotation=90, fontsize=6)\n",
    "plt.grid(b=True, which='both', axis='both', )\n",
    "fig3.set_figwidth(10)\n",
    "fig3.set_figheight(10)\n",
    "lines = ax3.plot(sugar8days.bsdate , sugar8days.bsugar, marker='o', linestyle='dashed' )\n",
    "mplcursors.cursor(lines) # or just mplcursors.cursor()\n",
    "\n"
   ],
   "outputs": [
    {
     "output_type": "execute_result",
     "data": {
      "text/plain": [
       "<mplcursors._mplcursors.Cursor at 0x7faeb43ba9d0>"
      ]
     },
     "metadata": {},
     "execution_count": 2
    }
   ],
   "metadata": {
    "tags": []
   }
  },
  {
   "cell_type": "code",
   "execution_count": 9,
   "source": [
    "sugar8days.describe()"
   ],
   "outputs": [
    {
     "output_type": "execute_result",
     "data": {
      "text/plain": [
       "           bsugar\n",
       "count   11.000000\n",
       "mean   123.454545\n",
       "std     24.687501\n",
       "min     75.000000\n",
       "25%    109.000000\n",
       "50%    134.000000\n",
       "75%    143.500000\n",
       "max    152.000000"
      ],
      "text/html": [
       "<div>\n",
       "<style scoped>\n",
       "    .dataframe tbody tr th:only-of-type {\n",
       "        vertical-align: middle;\n",
       "    }\n",
       "\n",
       "    .dataframe tbody tr th {\n",
       "        vertical-align: top;\n",
       "    }\n",
       "\n",
       "    .dataframe thead th {\n",
       "        text-align: right;\n",
       "    }\n",
       "</style>\n",
       "<table border=\"1\" class=\"dataframe\">\n",
       "  <thead>\n",
       "    <tr style=\"text-align: right;\">\n",
       "      <th></th>\n",
       "      <th>bsugar</th>\n",
       "    </tr>\n",
       "  </thead>\n",
       "  <tbody>\n",
       "    <tr>\n",
       "      <th>count</th>\n",
       "      <td>11.000000</td>\n",
       "    </tr>\n",
       "    <tr>\n",
       "      <th>mean</th>\n",
       "      <td>123.454545</td>\n",
       "    </tr>\n",
       "    <tr>\n",
       "      <th>std</th>\n",
       "      <td>24.687501</td>\n",
       "    </tr>\n",
       "    <tr>\n",
       "      <th>min</th>\n",
       "      <td>75.000000</td>\n",
       "    </tr>\n",
       "    <tr>\n",
       "      <th>25%</th>\n",
       "      <td>109.000000</td>\n",
       "    </tr>\n",
       "    <tr>\n",
       "      <th>50%</th>\n",
       "      <td>134.000000</td>\n",
       "    </tr>\n",
       "    <tr>\n",
       "      <th>75%</th>\n",
       "      <td>143.500000</td>\n",
       "    </tr>\n",
       "    <tr>\n",
       "      <th>max</th>\n",
       "      <td>152.000000</td>\n",
       "    </tr>\n",
       "  </tbody>\n",
       "</table>\n",
       "</div>"
      ]
     },
     "metadata": {},
     "execution_count": 9
    }
   ],
   "metadata": {}
  },
  {
   "cell_type": "markdown",
   "source": [
    "## Blood sugar line plot and table"
   ],
   "metadata": {}
  },
  {
   "cell_type": "code",
   "execution_count": 10,
   "source": [
    "# this one now working and showing 2 subplots Saturday, June 5, 2021 10:57:39 AM EDT\n",
    "# never got cursor to work so added mplcursors lib\n",
    "# get data\n",
    "sugeightdays = (\n",
    "    \"SELECT bsdate,bsugar FROM qtsugar WHERE bsdate > (SELECT date('now','-8 day'))\"  # pgsql\n",
    ")\n",
    "sugar8days = pd.read_sql_query(sugeightdays, myconn, parse_dates=\"bsdate\")\n",
    "fig3, ax3, = plt.subplots(1, 2)\n",
    "plt.subplot(1, 2, 1)\n",
    "# start setting up figure\n",
    "mylegend = \"7 days stats \"\n",
    "mystats = sugar8days.describe(include=\"int\")\n",
    "plt.ylim(60, 150)\n",
    "ax3[0].set_xlabel(\"Date\")\n",
    "plt.title(\"blood sugar last 8 days\")\n",
    "ax3[0].annotate([mystats], xy=(200, 380), xycoords=\"figure points\")\n",
    "plt.setp(ax3[0].get_xticklabels(), rotation=90, fontsize=6)\n",
    "# ax3.set_xticklabels(sugar8days.bsdate, rotation=90, fontsize=6)\n",
    "plt.grid(\n",
    "    b=True, which=\"both\", axis=\"both\",\n",
    ")\n",
    "fig3.set_figwidth(15)\n",
    "fig3.set_figheight(10)\n",
    "# thetable = pd.plotting.table(fig3, sugar8days, colLabels= sugar8days.columns )\n",
    "lines = ax3[0].plot(\n",
    "    sugar8days.bsdate, sugar8days.bsugar, marker=\"o\", linestyle=\"dashed\"\n",
    ")\n",
    "plt.subplot(1, 2, 2)\n",
    "\n",
    "plt.table(\n",
    "    cellText=sugar8days.values,\n",
    "    colWidths=[0.25] * len(sugar8days.columns),\n",
    "    rowLabels=None,\n",
    "    colLabels=sugar8days.columns,\n",
    "    cellLoc=\"center\",\n",
    "    rowLoc=\"center\",\n",
    "    loc=\"center\",\n",
    ")\n",
    "mplcursors.cursor(lines)  # or just mplcursors.cursor()\n",
    "plt.show()"
   ],
   "outputs": [],
   "metadata": {
    "tags": []
   }
  },
  {
   "cell_type": "markdown",
   "source": [
    "## Blood pressure"
   ],
   "metadata": {}
  },
  {
   "cell_type": "code",
   "execution_count": 12,
   "source": [
    "bpsevendays = \"SELECT bpdate ,bpsys AS systolic, bpdia AS diastolic, bphr AS pulse from  vsigns_bp where bpdate > (SELECT date('now','-8 day'))\"\n",
    "bp7days = pd.read_sql_query(bpsevendays, myconn, parse_dates = \"bpdate\")\n",
    "\n",
    "x = np.arange(len(bp7days))  # the label locations\n",
    "width = 0.35  # the width of the bars\n",
    "\n",
    "# color picker gpick\n",
    "fig , ax = plt.subplots()\n",
    "rects1 = ax.bar(x - width/2, bp7days.systolic, width, label='systolic', facecolor='#00388F')\n",
    "rects2 = ax.bar(x + width/2, bp7days.diastolic, width, label='diastolic', facecolor='#8F5600')\n",
    "rects3 = ax.bar(x + width, bp7days.pulse, width, label='pulse', facecolor='#638F00')\n",
    "ax.axhline(y=120, color='#00388F')\n",
    "ax.axhline(y=80, color='#8F5600')\n",
    "# Add some text for labels, title and custom x-axis tick labels, etc.\n",
    "ax.set_ylabel('120/80 = perfect')\n",
    "ax.set_title('Blood press 7 days')\n",
    "ax.set_xticks(x)\n",
    "ax.set_xticklabels(bp7days.bpdate, rotation=90, fontsize=6)\n",
    "ax.legend()\n",
    "\n",
    "ax.bar_label(rects1, label_type='center', color='#EEEED0')\n",
    "ax.bar_label(rects2, label_type='center')\n",
    "ax.bar_label(rects3, label_type='center')\n",
    "plt.rc('xtick', labelsize=6)\n",
    "fig.set_figheight(10)\n",
    "mplcursors.cursor(rects3)\n",
    "mplcursors.cursor(rects2)\n",
    "plt.show()"
   ],
   "outputs": [],
   "metadata": {
    "slideshow": {
     "slide_type": "slide"
    },
    "tags": []
   }
  },
  {
   "cell_type": "code",
   "execution_count": 13,
   "source": [
    "bp7days.describe()"
   ],
   "outputs": [
    {
     "output_type": "execute_result",
     "data": {
      "text/plain": [
       "         systolic  diastolic      pulse\n",
       "count    6.000000   6.000000   6.000000\n",
       "mean   133.500000  80.500000  65.000000\n",
       "std      8.826098   3.781534   7.874008\n",
       "min    119.000000  77.000000  57.000000\n",
       "25%    130.250000  77.500000  58.000000\n",
       "50%    134.500000  80.000000  64.500000\n",
       "75%    138.750000  81.750000  70.250000\n",
       "max    144.000000  87.000000  76.000000"
      ],
      "text/html": [
       "<div>\n",
       "<style scoped>\n",
       "    .dataframe tbody tr th:only-of-type {\n",
       "        vertical-align: middle;\n",
       "    }\n",
       "\n",
       "    .dataframe tbody tr th {\n",
       "        vertical-align: top;\n",
       "    }\n",
       "\n",
       "    .dataframe thead th {\n",
       "        text-align: right;\n",
       "    }\n",
       "</style>\n",
       "<table border=\"1\" class=\"dataframe\">\n",
       "  <thead>\n",
       "    <tr style=\"text-align: right;\">\n",
       "      <th></th>\n",
       "      <th>systolic</th>\n",
       "      <th>diastolic</th>\n",
       "      <th>pulse</th>\n",
       "    </tr>\n",
       "  </thead>\n",
       "  <tbody>\n",
       "    <tr>\n",
       "      <th>count</th>\n",
       "      <td>6.000000</td>\n",
       "      <td>6.000000</td>\n",
       "      <td>6.000000</td>\n",
       "    </tr>\n",
       "    <tr>\n",
       "      <th>mean</th>\n",
       "      <td>133.500000</td>\n",
       "      <td>80.500000</td>\n",
       "      <td>65.000000</td>\n",
       "    </tr>\n",
       "    <tr>\n",
       "      <th>std</th>\n",
       "      <td>8.826098</td>\n",
       "      <td>3.781534</td>\n",
       "      <td>7.874008</td>\n",
       "    </tr>\n",
       "    <tr>\n",
       "      <th>min</th>\n",
       "      <td>119.000000</td>\n",
       "      <td>77.000000</td>\n",
       "      <td>57.000000</td>\n",
       "    </tr>\n",
       "    <tr>\n",
       "      <th>25%</th>\n",
       "      <td>130.250000</td>\n",
       "      <td>77.500000</td>\n",
       "      <td>58.000000</td>\n",
       "    </tr>\n",
       "    <tr>\n",
       "      <th>50%</th>\n",
       "      <td>134.500000</td>\n",
       "      <td>80.000000</td>\n",
       "      <td>64.500000</td>\n",
       "    </tr>\n",
       "    <tr>\n",
       "      <th>75%</th>\n",
       "      <td>138.750000</td>\n",
       "      <td>81.750000</td>\n",
       "      <td>70.250000</td>\n",
       "    </tr>\n",
       "    <tr>\n",
       "      <th>max</th>\n",
       "      <td>144.000000</td>\n",
       "      <td>87.000000</td>\n",
       "      <td>76.000000</td>\n",
       "    </tr>\n",
       "  </tbody>\n",
       "</table>\n",
       "</div>"
      ]
     },
     "metadata": {},
     "execution_count": 13
    }
   ],
   "metadata": {}
  },
  {
   "cell_type": "markdown",
   "source": [
    "## Weight line plot and table"
   ],
   "metadata": {}
  },
  {
   "cell_type": "code",
   "execution_count": 16,
   "source": [
    "# editied in kate for new query for weight (fatty table)\n",
    "# never got cursor to work so added mplcursors lib\n",
    "# get data\n",
    "wtdta = \"select ftime, weight from qfatty where ftime > (SELECT date('now','-14 day'))\"\n",
    "wtdata = pd.read_sql_query(wtdta, myconn, parse_dates = \"Time\")\n",
    "wtdata.rename(columns = {'ftime':'Time', 'weight':'Weight' }, inplace = True)\n",
    "   \n",
    "fig4, ax4, = plt.subplots(1, 2)\n",
    "plt.subplot(1,2,1)\n",
    "# start setting up figure\n",
    "mylegend = \"7 days stats \"\n",
    "mystats = wtdata.describe(include='float')\n",
    "plt.ylim(230,260)\n",
    "ax4[0].set_xlabel('Date')\n",
    "plt.title('weight plot')\n",
    "ax4[0].annotate([mystats], xy=(200, 380), xycoords='figure points')\n",
    "plt.setp(ax4[0].get_xticklabels(), rotation = 90, fontsize=6)\n",
    "# ax4.set_xticklabels(wtdata.bsdate, rotation=90, fontsize=6)\n",
    "plt.grid(b=True, which='both', axis='both', )\n",
    "fig4.set_figwidth(15)\n",
    "fig4.set_figheight(10)\n",
    "# thetable = pd.plotting.table(fig4, wtdata, colLabels= wtdata.columns )\n",
    "lines = ax4[0].plot(wtdata.Time , wtdata.Weight, marker='o', linestyle='dashed' )\n",
    "plt.subplot(1,2,2)\n",
    "plt.table(cellText=wtdata.values,colWidths = [0.25]*len(wtdata.columns),\n",
    "          rowLabels= None ,\n",
    "          colLabels=wtdata.columns,\n",
    "          cellLoc = 'center', rowLoc = 'center',\n",
    "          loc='center')\n",
    "mplcursors.cursor(lines) # or just mplcursors.cursor()\n",
    "plt.show()\n"
   ],
   "outputs": [],
   "metadata": {
    "tags": []
   }
  },
  {
   "cell_type": "code",
   "execution_count": null,
   "source": [
    "# 2021-07-11 09:06:00\n",
    "from datetime import datetime\n",
    "import dateutil\n",
    "dt = \"7/14/2021 4:34 PM\"\n",
    "# dt = datetime.now()\n",
    "# dt = DT(dt, \"localtime\" )\n",
    "dt = datetime.strptime(dt, '%m/%d/%Y %I:M %p')"
   ],
   "outputs": [],
   "metadata": {}
  },
  {
   "cell_type": "code",
   "execution_count": null,
   "source": [
    "datetime_object = datetime.strptime('Jun 1 2005  1:33PM', '%b %d %Y %I:%M%p')\n",
    "datetime_object"
   ],
   "outputs": [],
   "metadata": {}
  },
  {
   "cell_type": "code",
   "execution_count": null,
   "source": [
    "# d='10:23:34 PM'\n",
    "d = '7/14/2021 4:34 PM'\n",
    "pd.to_datetime(d,'%m/%d/%Y %H:%M')"
   ],
   "outputs": [],
   "metadata": {}
  },
  {
   "cell_type": "code",
   "execution_count": null,
   "source": [
    "wtdata = pd.read_csv(\"/home/rfile/motog3/Bob - Export Data 7-11-2021 ~ 7-17-2021.csv\")\n",
    "wtdata.rename(columns={\"Time\": \"ftime\"}, inplace=True)\n",
    "# wtdata.ftime = pd.to_datetime(wtdata.ftime, format=\"%m/%d/%YT%H:%M\")\n",
    "wtdata.ftime = pd.to_datetime(wtdata.ftime)\n",
    "\n"
   ],
   "outputs": [],
   "metadata": {}
  },
  {
   "cell_type": "code",
   "execution_count": null,
   "source": [
    "wtdata.ftime"
   ],
   "outputs": [],
   "metadata": {}
  },
  {
   "cell_type": "code",
   "execution_count": null,
   "source": [
    "for t in wtdata.ftime:\n",
    "    t = datetime.strptime(t,\"%m/%d/%Y %I:%M %p\")\n",
    "    wtdata.replace(wtdata.ftime, t)"
   ],
   "outputs": [],
   "metadata": {}
  },
  {
   "cell_type": "code",
   "execution_count": null,
   "source": [
    "wtdata.loc[0]"
   ],
   "outputs": [],
   "metadata": {}
  },
  {
   "cell_type": "code",
   "execution_count": null,
   "source": [
    "wtdata.ftime"
   ],
   "outputs": [],
   "metadata": {}
  },
  {
   "cell_type": "code",
   "execution_count": null,
   "source": [],
   "outputs": [],
   "metadata": {}
  }
 ],
 "metadata": {
  "interpreter": {
   "hash": "568e15c1faa605b14eae9d1acc4bf07916671e4ebf4ad26d32d845442679b601"
  },
  "kernelspec": {
   "name": "python3",
   "display_name": "Python 3.9.6 64-bit ('vitals': venv)"
  },
  "language_info": {
   "codemirror_mode": {
    "name": "ipython",
    "version": 3
   },
   "file_extension": ".py",
   "mimetype": "text/x-python",
   "name": "python",
   "nbconvert_exporter": "python",
   "pygments_lexer": "ipython3",
   "version": "3.9.6"
  }
 },
 "nbformat": 4,
 "nbformat_minor": 4
}