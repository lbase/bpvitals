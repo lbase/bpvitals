{
 "cells": [
  {
   "cell_type": "markdown",
   "metadata": {},
   "source": [
    "# Working bits from bpstats09pg\n"
   ]
  },
  {
   "cell_type": "markdown",
   "metadata": {
    "tags": []
   },
   "source": [
    "## moving to sqlite after trouble with queries and sequences in postgresql\n",
    "\n",
    "https://docs.sqlalchemy.org/en/14/dialects/sqlite.html#module-sqlalchemy.dialects.sqlite.pysqlite\n",
    "\n",
    "https://docs.python.org/3/library/datetime.html#strftime-and-strptime-behavior\n",
    "\n",
    "use %%black to format cell\n",
    "\n",
    "running from fedora and making change to see if push works with flatboy\n",
    "can't seem to get gitlab to show bubba as an author\n"
   ]
  },
  {
   "cell_type": "code",
   "execution_count": null,
   "metadata": {
    "tags": []
   },
   "outputs": [],
   "source": [
    "import dateutil\n",
    "import pandas as pd\n",
    "import numpy as np\n",
    "from sqlalchemy import create_engine\n",
    "from sqlalchemy import select\n",
    "from sqlalchemy.dialects.sqlite import DATETIME as DT\n",
    "from sqlalchemy.orm import sessionmaker\n",
    "import matplotlib.pyplot as plt\n",
    "# import seaborn as sb\n",
    "from matplotlib import cbook, dates\n",
    "from icecream import ic\n",
    "#from matplotlib.ticker import Formatter\n",
    "import mplcursors\n",
    "from reportlab.pdfgen import canvas\n",
    "from reportlab.platypus import SimpleDocTemplate, Table\n",
    "from reportlab.platypus import TableStyle\n",
    "from reportlab.lib import colors\n",
    "from reportlab.lib.pagesizes import letter\n",
    "# %matplotlib widget\n",
    "# this gives seperate window qt widget for figures\n",
    "%matplotlib qt5\n",
    "# %matplotlib inline\n",
    "# %load_ext blackcellmagic\n",
    "eng = create_engine(\"sqlite:////data/sqlite/vitals.db\")\n",
    "myconn = eng.connect()"
   ]
  },
  {
   "cell_type": "markdown",
   "metadata": {
    "tags": []
   },
   "source": [
    "## Blood sugar line plot"
   ]
  },
  {
   "cell_type": "code",
   "execution_count": null,
   "metadata": {},
   "outputs": [],
   "source": [
    "myconn"
   ]
  },
  {
   "cell_type": "code",
   "execution_count": null,
   "metadata": {},
   "outputs": [],
   "source": [
    "c = canvas.Canvas(\"reportlab_pdf.pdf\")\n",
    "c.drawString(100,100,\"Hello World\")\n",
    "c.showPage()\n",
    "c.save()"
   ]
  },
  {
   "cell_type": "code",
   "execution_count": null,
   "metadata": {
    "tags": []
   },
   "outputs": [],
   "source": [
    "#  this one working and showing the variable mystats n\n",
    "# never got cursor to work so added mplcursors lib\n",
    "# get data\n",
    "sugeightdays = \"SELECT bsdate,bsugar FROM qtsugar WHERE bsdate > (SELECT date('now','-8 day'))\"\n",
    "sugar8days = pd.read_sql_query(sugeightdays, myconn, parse_dates = \"bsdate\")\n",
    "myconn\n",
    "# start setting up figure\n",
    "mylegend = \"7 days stats \"\n",
    "mystats = sugar8days.describe(include='int')\n",
    "sugar8days=sugar8days.sort_values(\"bsdate\")\n",
    "fig3, ax3 = plt.subplots()\n",
    "plt.ylim(60,150)\n",
    "ax3.set_xlabel('Date')\n",
    "plt.title('blood sugar last 8 days')\n",
    "ax3.annotate([mystats], xy=(200, 380), xycoords='figure points')\n",
    "plt.setp(ax3.get_xticklabels(), rotation = 90, fontsize=6)\n",
    "#ax3.set_xticklabels(sugar8days.bsdate, rotation=90, fontsize=6)\n",
    "#plt.grid(b=True, which='both', axis='both', )\n",
    "plt.grid\n",
    "fig3.set_figwidth(10)\n",
    "fig3.set_figheight(10)\n",
    "lines = ax3.plot(sugar8days.bsdate , sugar8days.bsugar, marker='o', linestyle='dashed' )\n",
    "mplcursors.cursor(lines) # or just mplcursors.cursor()\n",
    "\n"
   ]
  },
  {
   "cell_type": "code",
   "execution_count": null,
   "metadata": {
    "tags": []
   },
   "outputs": [],
   "source": [
    "sugar8days.describe()"
   ]
  },
  {
   "cell_type": "code",
   "execution_count": null,
   "metadata": {},
   "outputs": [],
   "source": [
    "sugar8days.pdf"
   ]
  },
  {
   "cell_type": "markdown",
   "metadata": {},
   "source": [
    "## Blood sugar line plot and table"
   ]
  },
  {
   "cell_type": "code",
   "execution_count": null,
   "metadata": {
    "tags": []
   },
   "outputs": [],
   "source": [
    "# this one now working and showing 2 subplots Saturday, June 5, 2021 10:57:39 AM EDT\n",
    "# never got cursor to work so added mplcursors lib\n",
    "# get data\n",
    "sugeightdays = (\n",
    "    \"SELECT bsdate,bsugar FROM qtsugar WHERE bsdate > (SELECT date('now','-8 day'))\"  # pgsql\n",
    ")\n",
    "sugar8days = pd.read_sql_query(sugeightdays, myconn, parse_dates=\"bsdate\")\n",
    "fig3, ax3, = plt.subplots(1, 2)\n",
    "plt.subplot(1, 2, 1)\n",
    "# start setting up figure\n",
    "mylegend = \"7 days stats \"\n",
    "mystats = sugar8days.describe()\n",
    "plt.ylim(60, 150)\n",
    "ax3[0].set_xlabel(\"Date\")\n",
    "plt.title(\"blood sugar last 8 days\")\n",
    "ax3[0].annotate([mystats], xy=(200, 380), xycoords=\"figure points\")\n",
    "plt.setp(ax3[0].get_xticklabels(), rotation=90, fontsize=6)\n",
    "# ax3.set_xticklabels(sugar8days.bsdate, rotation=90, fontsize=6)\n",
    "plt.grid(\n",
    "    b=True, which=\"both\", axis=\"both\",\n",
    ")\n",
    "fig3.set_figwidth(15)\n",
    "fig3.set_figheight(10)\n",
    "# thetable = pd.plotting.table(fig3, sugar8days, colLabels= sugar8days.columns )\n",
    "lines = ax3[0].plot(\n",
    "    sugar8days.bsdate, sugar8days.bsugar, marker=\"o\", linestyle=\"dashed\"\n",
    ")\n",
    "plt.subplot(1, 2, 2)\n",
    "\n",
    "plt.table(\n",
    "    cellText=sugar8days.values,\n",
    "    colWidths=[0.25] * len(sugar8days.columns),\n",
    "    rowLabels=None,\n",
    "    colLabels=sugar8days.columns,\n",
    "    cellLoc=\"center\",\n",
    "    rowLoc=\"center\",\n",
    "    loc=\"center\",\n",
    ")\n",
    "mplcursors.cursor(lines)  # or just mplcursors.cursor()\n",
    "plt.show()"
   ]
  },
  {
   "cell_type": "markdown",
   "metadata": {},
   "source": [
    "## Blood pressure"
   ]
  },
  {
   "cell_type": "code",
   "execution_count": null,
   "metadata": {
    "slideshow": {
     "slide_type": "slide"
    },
    "tags": []
   },
   "outputs": [],
   "source": [
    "bpsevendays = \"SELECT bpdate ,bpsys AS systolic, bpdia AS diastolic, bphr AS pulse from  vsigns_bp where bpdate > (SELECT date('now','-8 day'))\"\n",
    "bp7days = pd.read_sql_query(bpsevendays, myconn, parse_dates = \"bpdate\")\n",
    "\n",
    "x = np.arange(len(bp7days))  # the label locations\n",
    "width = 0.35  # the width of the bars\n",
    "\n",
    "# color picker gpick\n",
    "fig , ax = plt.subplots()\n",
    "rects1 = ax.bar(x - width/2, bp7days.systolic, width, label='systolic', facecolor='#00388F')\n",
    "rects2 = ax.bar(x + width/2, bp7days.diastolic, width, label='diastolic', facecolor='#8F5600')\n",
    "rects3 = ax.bar(x + width, bp7days.pulse, width, label='pulse', facecolor='#638F00')\n",
    "ax.axhline(y=120, color='#00388F')\n",
    "ax.axhline(y=80, color='#8F5600')\n",
    "# Add some text for labels, title and custom x-axis tick labels, etc.\n",
    "ax.set_ylabel('120/80 = perfect')\n",
    "ax.set_title('Blood press 7 days')\n",
    "ax.set_xticks(x)\n",
    "ax.set_xticklabels(bp7days.bpdate, rotation=90, fontsize=6)\n",
    "ax.legend()\n",
    "\n",
    "ax.bar_label(rects1, label_type='center', color='#EEEED0')\n",
    "ax.bar_label(rects2, label_type='center')\n",
    "ax.bar_label(rects3, label_type='center')\n",
    "plt.rc('xtick', labelsize=6)\n",
    "fig.set_figheight(10)\n",
    "mplcursors.cursor(rects3)\n",
    "mplcursors.cursor(rects2)\n",
    "plt.show()"
   ]
  },
  {
   "cell_type": "code",
   "execution_count": null,
   "metadata": {},
   "outputs": [],
   "source": [
    "bp7days.describe()"
   ]
  },
  {
   "cell_type": "markdown",
   "metadata": {},
   "source": [
    "## Weight line plot and table"
   ]
  },
  {
   "cell_type": "code",
   "execution_count": null,
   "metadata": {
    "scrolled": true,
    "tags": []
   },
   "outputs": [],
   "source": [
    "# editied in kate for new query for weight (fatty table)\n",
    "# never got cursor to work so added mplcursors lib\n",
    "# get data\n",
    "# wtdta = \"select ftime, weight from qfatty where ftime > (SELECT date('now','-30 day'))\" # original 14 days\n",
    "wtdta = \"select ftime, weight from (select ftime, weight from fatty order by ftime desc limit 30) order by ftime asc\"\n",
    "wtdata = pd.read_sql_query(wtdta, myconn, parse_dates = \"Time\")\n",
    "wtdata.rename(columns = {'ftime':'Time', 'weight':'Weight' }, inplace = True)\n",
    "   \n",
    "fig4, ax4, = plt.subplots(1, 2)\n",
    "plt.subplot(1,2,1)\n",
    "# start setting up figure\n",
    "mylegend = \"7 days stats \"\n",
    "mystats = wtdata.describe(include='float')\n",
    "plt.ylim(230,260)\n",
    "ax4[0].set_xlabel('Date')\n",
    "plt.title('weight plot')\n",
    "ax4[0].annotate([mystats], xy=(200, 380), xycoords='figure points')\n",
    "plt.setp(ax4[0].get_xticklabels(), rotation = 90, fontsize=6)\n",
    "# ax4.set_xticklabels(wtdata.bsdate, rotation=90, fontsize=6)\n",
    "plt.grid(visible=True, which='both', axis='both', )\n",
    "fig4.set_figwidth(15)\n",
    "fig4.set_figheight(10)\n",
    "# thetable = pd.plotting.table(fig4, wtdata, colLabels= wtdata.columns )\n",
    "lines = ax4[0].plot(wtdata.Time , wtdata.Weight, marker='o', linestyle='dashed' )\n",
    "plt.subplot(1,2,2)\n",
    "plt.table(cellText=wtdata.values,colWidths = [0.25]*len(wtdata.columns),\n",
    "          rowLabels= None ,\n",
    "          colLabels=wtdata.columns,\n",
    "          cellLoc = 'center', rowLoc = 'center',\n",
    "          loc='center')\n",
    "mplcursors.cursor(lines) # or just mplcursors.cursor()\n",
    "plt.show()\n"
   ]
  },
  {
   "cell_type": "markdown",
   "metadata": {},
   "source": [
    "# Edit for lineplot only"
   ]
  },
  {
   "cell_type": "markdown",
   "metadata": {
    "tags": []
   },
   "source": [
    "## Barplots averages for sugar"
   ]
  },
  {
   "cell_type": "code",
   "execution_count": null,
   "metadata": {},
   "outputs": [],
   "source": [
    "sugnext8 = \"SELECT bsdate,bsugar FROM qtsugar WHERE bsdate < (SELECT date('now','-8 day')) and bsdate > (SELECT date('now' , '-16 day'))\"\n",
    "sugar8next = pd.read_sql_query(sugnext8, myconn, parse_dates = \"bsdate\")"
   ]
  },
  {
   "cell_type": "code",
   "execution_count": null,
   "metadata": {
    "tags": []
   },
   "outputs": [],
   "source": [
    "sugeightdays = \"SELECT bsdate,bsugar FROM qtsugar WHERE bsdate > (SELECT date('now','-8 day'))\"\n",
    "sugar8days = pd.read_sql_query(sugeightdays, myconn, parse_dates = \"bsdate\")"
   ]
  },
  {
   "cell_type": "code",
   "execution_count": null,
   "metadata": {},
   "outputs": [],
   "source": [
    "sugtoday = \"SELECT bsdate,bsugar FROM qtsugar WHERE bsdate = (SELECT date('now', '-1 day'))\"\n",
    "sugartoday = pd.read_sql_query(sugeightdays, myconn, parse_dates = \"bsdate\")"
   ]
  },
  {
   "cell_type": "code",
   "execution_count": null,
   "metadata": {
    "tags": []
   },
   "outputs": [],
   "source": [
    "\n",
    "\n",
    "\n",
    "sugonedays = \"SELECT bsdate,bsugar FROM qtsugar WHERE bsdate >= (SELECT date('now', '-24 hours'))\" \n",
    "sugar1days = pd.read_sql_query(sugonedays, myconn, parse_dates = \"bsdate\")\n",
    "\n",
    "\n",
    "\n",
    "\n",
    "\n",
    "# Draw a vertical bar chart\n",
    "\n",
    "plot = sugar1days.plot.bar(x=\"bsdate\", y=\"bsugar\", title=\"sugar 24 hours\")\n",
    "\n",
    "plt.tight_layout()\n",
    "plt.show()"
   ]
  },
  {
   "cell_type": "code",
   "execution_count": null,
   "metadata": {
    "tags": []
   },
   "outputs": [],
   "source": [
    "bp8days = \"SELECT bpdate ,bpsys AS systolic, bpdia AS diastolic, bphr AS pulse , bpsugar as glucose, ketone, bpcomment as comment from  vsigns_bp where bpdate > (SELECT date('now','-8 day'))\"\n",
    "pd.read_sql_query(bp8days, myconn, parse_dates = \"bpdate\")\n"
   ]
  },
  {
   "cell_type": "markdown",
   "metadata": {},
   "source": [
    "## Make a report\n",
    "\n",
    "Use DataFrame. columns. values. tolist() "
   ]
  },
  {
   "cell_type": "code",
   "execution_count": null,
   "metadata": {},
   "outputs": [],
   "source": [
    "def df2table(df):\n",
    "    return Table(\n",
    "      [[Paragraph(col) for col in df.columns]] + df.values.tolist(), \n",
    "      style=[\n",
    "        ('FONTNAME', (0,0), (-1,0), 'Helvetica-Bold'),\n",
    "        ('LINEBELOW',(0,0), (-1,0), 1, colors.black),\n",
    "        ('INNERGRID', (0,0), (-1,-1), 0.25, colors.black),\n",
    "        ('BOX', (0,0), (-1,-1), 1, colors.black),\n",
    "        ('ROWBACKGROUNDS', (0,0), (-1,-1), [colors.lightgrey, colors.white])],\n",
    "      hAlign = 'LEFT')"
   ]
  },
  {
   "cell_type": "code",
   "execution_count": null,
   "metadata": {},
   "outputs": [],
   "source": [
    "try:\n",
    "    with conn.cursor() as cursor:\n",
    "        # Read data from database\n",
    "        sql = \"SELECT * FROM `users`\"\n",
    "        cursor.execute(sql)\n",
    "\n",
    "        # Fetch all rows\n",
    "        rows = cursor.fetchall()\n",
    "\n",
    "        # Print results\n",
    "        for row in rows:\n",
    "            print(row)\n",
    "finally:\n",
    "    conn.close()"
   ]
  },
  {
   "cell_type": "code",
   "execution_count": null,
   "metadata": {},
   "outputs": [],
   "source": [
    "from reportlab.pdfgen.canvas import Canvas\n",
    "from reportlab.platypus import SimpleDocTemplate, Table, Paragraph\n",
    "from reportlab.platypus import TableStyle\n",
    "from reportlab.lib import colors\n",
    "from reportlab.lib.pagesizes import letter\n",
    "from reportlab.platypus import SimpleDocTemplate, Table, TableStyle\n",
    "from reportlab.lib.styles import ParagraphStyle\n",
    "from reportlab.lib.styles import getSampleStyleSheet\n",
    "from sqlalchemy.orm import sessionmaker\n",
    "from sqlalchemy.sql import text\n",
    "bp8days = \"SELECT bpdate ,bpsys AS systolic, bpdia AS diastolic, bphr AS pulse , bpsugar as glucose, ketone, bpcomment as comment from  vsigns_bp where bpdate > (SELECT date('now','-3 day'))\"\n",
    "\n",
    "# bpdf = pd.read_sql_query(bp8days, myconn, parse_dates = \"bpdate\")\n",
    "bpdf = pd.read_sql_query(bp8days, myconn, )\n",
    "bpsession = sessionmaker(bind=eng)\n",
    "bps1 = bpsession()\n",
    "\n",
    "#bps = bpsession.execute(\"SELECT bpdate ,bpsys AS systolic, bpdia AS diastolic, bphr AS pulse , bpsugar as glucose, ketone, bpcomment as comment from  vsigns_bp where bpdate > (SELECT date('now','-3 day'))\")\n",
    "# bpsr = bps1.fetchall()\n",
    "rows = text(bps1.execute(bp8days).all())\n",
    "\n",
    "stylesheet=getSampleStyleSheet()\n",
    "normalStyle = stylesheet['Normal']\n",
    "\n",
    "bpdata =[\"DATE\" , \"SYSTOLIC\", \"DIASTOLIC\", \"PULSE\", \"GLUCOSE\", \"KETONE\", \"COMMENT\"]\n",
    "\n",
    "#bpdata.append = (bpdf.values)\n",
    "\n",
    "\n",
    "#for i in range(1,100):\n",
    "    #bpdata.append([str(i),str(i),str(i),str(i),str(i),str(i),str(i)])\n",
    "    #bpdata.append([(np.array(bpdf).tolist())])\n",
    "bpdata.append((np.array(bpdf)))\n",
    "#sugar1header = ''.join(str(e) for e in sugar1header)\n",
    "# s1p = Paragraph(sugar1header,normalStyle)\n",
    "tstx = \"test text\"\n",
    "s1p = Paragraph(tstx,normalStyle,bulletText=None)\n",
    "\n",
    "c1 = Canvas('table.pdf', pagesize=letter)\n",
    "GRID_STYLE = TableStyle(\n",
    "            [('GRID', (0, 0), (-1, -1), 0.25, colors.green),\n",
    "            ('ALIGN', (1, 0), (-1, -1), 'RIGHT')])\n",
    "#tbuild = [(\"DATE\" , \"SYSTOLIC\", \"DIASTOLIC\", \"PULSE\", \"GLUCOSE\", \"KETONE\", \"COMMENT\")]\n",
    "\n",
    "#tbuild.append(bpdf)\n",
    "t1 = Table(np.array(bpdf).tolist())\n",
    "#t1 = Table(bpdata)\n",
    "\n",
    "#t1 = df2table(bpdf)\n",
    "\n",
    "\n",
    "t1.setStyle(GRID_STYLE) \n",
    "# doc = SimpleDocTemplate(\"table.pdf\", pagesize=letter)\n",
    "\n",
    "# Draw the table on the canvas\n",
    "t1.wrapOn(c1, 100, 500)\n",
    "t1.drawOn(c1, 100, 500)\n",
    "# c1.drawString(100, 700, sugar1header)\n",
    "#s1p.drawOn(c1,100, 600)\n",
    "#s1p.wrapOn(c1,100,80)\n",
    "#sugar1header.drawOn(c1,100,80)\n",
    "# Save the canvas\n",
    "c1.save()\n",
    "\n"
   ]
  },
  {
   "cell_type": "code",
   "execution_count": null,
   "metadata": {},
   "outputs": [],
   "source": [
    "bps1\n"
   ]
  },
  {
   "cell_type": "code",
   "execution_count": null,
   "metadata": {},
   "outputs": [],
   "source": [
    "# from reportlab.pdfgen.canvas import Canvas\n",
    "# import the canvas object\n",
    "from reportlab.pdfgen import canvas\n",
    "\n",
    "# create a Canvas object with a filename\n",
    "c = canvas.Canvas(\"rt.pdf\", pagesize=(595.27, 841.89))  # A4 pagesize\n",
    "# draw a string at x=100, y=800 points\n",
    "# point ~ standard desktop publishing (72 DPI)\n",
    "# coordinate system:\n",
    "#   y\n",
    "#   |\n",
    "#   |   page\n",
    "#   |\n",
    "#   |\n",
    "#   0-------x\n",
    "#c.drawString(50, 780, \"Hello Again\")\n",
    "c.drawString(50,780, sugar1days)\n",
    "# finish page\n",
    "c.showPage()\n",
    "# construct and save file to .pdf\n",
    "c.save()\n"
   ]
  },
  {
   "cell_type": "code",
   "execution_count": null,
   "metadata": {},
   "outputs": [],
   "source": [
    "from reportlab.lib import colors\n",
    "from reportlab.lib.pagesizes import letter\n",
    "from reportlab.platypus import Table, TableStyle, Paragraph\n",
    "from reportlab.pdfgen.canvas import Canvas\n",
    "from reportlab.lib.styles import getSampleStyleSheet\n",
    "\n",
    "# Create a table\n",
    "data = [\n",
    "    ['Name', 'Age', 'City'],\n",
    "    ['Alice', 25, 'London'],\n",
    "    ['Bob', 30, 'Paris'],\n",
    "    ['Charlie', 35, 'Rome'],\n",
    "]\n",
    "table = Table(data)\n",
    "\n",
    "# Create a table style\n",
    "style = TableStyle([\n",
    "    ('ALIGN', (0, 0), (-1, -1), 'CENTER'),\n",
    "    ('VALIGN', (0, 0), (-1, -1), 'MIDDLE'),\n",
    "    ('INNERGRID', (0, 0), (-1, -1), 0.25, colors.black),\n",
    "    ('BOX', (0, 0), (-1, -1), 0.25, colors.black),\n",
    "])\n",
    "\n",
    "# Apply the table style to the table\n",
    "table.setStyle(style)\n",
    "\n",
    "# Create a canvas\n",
    "canvas = Canvas('table.pdf', pagesize=letter)\n",
    "\n",
    "# Draw the table on the canvas\n",
    "table.wrapOn(canvas, 100, 100)\n",
    "table.drawOn(canvas, 100, 100)\n",
    "\n",
    "# Save the canvas\n",
    "canvas.save()"
   ]
  },
  {
   "cell_type": "code",
   "execution_count": 7,
   "metadata": {},
   "outputs": [],
   "source": [
    "import io\n",
    "import os\n",
    "# from django.core.files.base import ContentFile\n",
    "# from jsignature.utils import draw_signature\n",
    "from reportlab.lib.pagesizes import letter\n",
    "from reportlab.lib.styles import getSampleStyleSheet, ParagraphStyle\n",
    "from reportlab.lib.enums import TA_RIGHT, TA_CENTER, TA_LEFT\n",
    "from reportlab.lib.units import inch\n",
    "from reportlab.pdfgen import canvas\n",
    "from reportlab.platypus import SimpleDocTemplate, Paragraph, Table\n",
    "from PIL import Image\n",
    "\n",
    "\n",
    "# create pdf with table and paragraphs\n",
    "def create_pdf(participant):\n",
    "    # create a file-like buffer to receive PDF data\n",
    "    buffer = io.BytesIO()\n",
    "    # define styles\n",
    "    styles = getSampleStyleSheet()\n",
    "    style_general = ParagraphStyle(\n",
    "        name='left',\n",
    "        parent=styles['Normal'],\n",
    "        fontSize=12,\n",
    "        fontName='Helvetica',\n",
    "        alignment=TA_LEFT)\n",
    "    style_image = ParagraphStyle(\n",
    "        name='left',\n",
    "        fontSize=30,\n",
    "        parent=styles['Normal'],\n",
    "        alignment=TA_LEFT)\n",
    "    style_heading = ParagraphStyle(\n",
    "        name='center',\n",
    "        fontSize=18,\n",
    "        fontName='Helvetica-Bold',\n",
    "        parent=styles['Heading1'],\n",
    "        leading=18,\n",
    "        alignment=TA_CENTER)\n",
    "    # create a simple document with page size in buffer\n",
    "    doc = SimpleDocTemplate(buffer, pagesize=letter, author='Me')\n",
    "    # create a list of paragraphs\n",
    "    AllParagraphs = []\n",
    "    # convert png image to jpeg\n",
    "    jpeg_image = get_jpeg_image(participant)\n",
    "    # add rows and columns so that the data can align\n",
    "    table_data = [\n",
    "        [Paragraph(\"My Heading - It should span the full page width\", style_heading)],\n",
    "        [\n",
    "            Paragraph('Name:', style_general),\n",
    "            Paragraph(\n",
    "                f'{participant.first_name} {participant.middle_initial} {participant.last_name}',\n",
    "                style_general)\n",
    "        ],\n",
    "        [\n",
    "            Paragraph(f'Signature:', style_general),\n",
    "            # image height of 30 to prevent overlapping since fontSize is 30,\n",
    "            # image width of double to maintain aspect ratio\n",
    "            Paragraph(\n",
    "                \"<img src='{0}' valign='middle' width=60 height=30 />\".format(\n",
    "                    jpeg_image),\n",
    "                style_image)\n",
    "        ]\n",
    "    ]\n",
    "    # set rows and columns into Table object\n",
    "    table_element = Table(table_data)\n",
    "    # add table to list of paragraphs\n",
    "    AllParagraphs.append(table_element)\n",
    "    # build document with list of paragraphs\n",
    "    doc.build(AllParagraphs)\n",
    "\n",
    "    # get content of buffer\n",
    "    buffer.seek(0)\n",
    "    pdf_data = buffer.getvalue()\n",
    "    # save buffer content to django File object\n",
    "    file_data = ContentFile(pdf_data)\n",
    "    # name pdf file\n",
    "    file_data.name = f'{participant.last_name}.pdf'\n",
    "    # delete jpeg file\n",
    "    os.remove(jpeg_image)\n",
    "    # save pdf file to parent model\n",
    "    participant.pdf = file_data\n",
    "    participant.save()\n"
   ]
  },
  {
   "cell_type": "code",
   "execution_count": 8,
   "metadata": {},
   "outputs": [
    {
     "ename": "NameError",
     "evalue": "name 'pdf_data' is not defined",
     "output_type": "error",
     "traceback": [
      "\u001b[0;31m---------------------------------------------------------------------------\u001b[0m",
      "\u001b[0;31mNameError\u001b[0m                                 Traceback (most recent call last)",
      "Cell \u001b[0;32mIn[8], line 1\u001b[0m\n\u001b[0;32m----> 1\u001b[0m \u001b[43mpdf_data\u001b[49m\n",
      "\u001b[0;31mNameError\u001b[0m: name 'pdf_data' is not defined"
     ]
    }
   ],
   "source": [
    "pdf_data"
   ]
  },
  {
   "cell_type": "code",
   "execution_count": null,
   "metadata": {},
   "outputs": [],
   "source": []
  }
 ],
 "metadata": {
  "interpreter": {
   "hash": "31f2aee4e71d21fbe5cf8b01ff0e069b9275f58929596ceb00d14d90e3e16cd6"
  },
  "kernelspec": {
   "display_name": "Python 3 (ipykernel)",
   "language": "python",
   "name": "python3"
  },
  "language_info": {
   "codemirror_mode": {
    "name": "ipython",
    "version": 3
   },
   "file_extension": ".py",
   "mimetype": "text/x-python",
   "name": "python",
   "nbconvert_exporter": "python",
   "pygments_lexer": "ipython3",
   "version": "3.12.2"
  }
 },
 "nbformat": 4,
 "nbformat_minor": 4
}
